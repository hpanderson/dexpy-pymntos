{
 "cells": [
  {
   "cell_type": "code",
   "execution_count": null,
   "metadata": {
    "collapsed": false,
    "slideshow": {
     "slide_type": "skip"
    }
   },
   "outputs": [],
   "source": [
    "# import packages here to reduce the size of code cells later\n",
    "\n",
    "import pandas as pd\n",
    "from prettypandas import PrettyPandas\n",
    "import patsy\n",
    "\n",
    "import numpy as np\n",
    "import scipy.stats\n",
    "import statsmodels.formula.api\n",
    "import statsmodels.api as sm\n",
    "\n",
    "from graphviz import Digraph\n",
    "import seaborn as sns\n",
    "\n",
    "import dexpy.factorial\n",
    "import dexpy.alias\n",
    "import dexpy.power\n",
    "\n",
    "from mpl_toolkits.mplot3d import Axes3D\n",
    "import matplotlib.pyplot as plt\n",
    "from matplotlib import patches\n",
    "\n",
    "from IPython.display import display, Markdown, HTML\n"
   ]
  },
  {
   "cell_type": "code",
   "execution_count": null,
   "metadata": {
    "collapsed": false,
    "slideshow": {
     "slide_type": "skip"
    }
   },
   "outputs": [],
   "source": [
    "from IPython.core.display import HTML\n",
    "HTML('''<script>\n",
    "code_show=true; \n",
    "function code_toggle() {\n",
    " if (code_show){\n",
    " $('div.input').hide();\n",
    " } else {\n",
    " $('div.input').show();\n",
    " }\n",
    " code_show = !code_show\n",
    "} \n",
    "$( document ).ready(code_toggle);\n",
    "</script>\n",
    "The raw code for this IPython notebook is by default hidden for easier reading.\n",
    "To toggle on/off the raw code, click <a href=\"javascript:code_toggle()\">here</a>.''')"
   ]
  },
  {
   "cell_type": "code",
   "execution_count": null,
   "metadata": {
    "collapsed": false,
    "slideshow": {
     "slide_type": "skip"
    }
   },
   "outputs": [],
   "source": [
    "# helper functions for this notebook\n",
    "\n",
    "# use SVG for matplotlib-based figures\n",
    "%matplotlib inline\n",
    "%config InlineBackend.figure_format = 'svg'\n",
    "\n",
    "def coded_to_actual(coded_data, actual_lows, actual_highs):\n",
    "    \"\"\"Converts a pandas DataFrame from coded units to actuals.\"\"\"\n",
    "    actual_data = coded_data.copy()\n",
    "    for col in actual_data.columns:\n",
    "        try:\n",
    "            # convert continuous variables to their actual value\n",
    "            actual_data[col] *= 0.5 * (float(actual_highs[col]) - float(actual_lows[col]))\n",
    "            # don't need to cast to float here, if either are not a float exception will have been thrown\n",
    "            actual_data[col] += 0.5 * (actual_highs[col] + actual_lows[col])\n",
    "        except ValueError:\n",
    "            # assume 2 level categorical\n",
    "            actual_data[col] = actual_data[col].map({-1: actual_lows[col], 1: actual_highs[col]})\n",
    "    return actual_data\n",
    "        \n",
    "def get_tick_labels(key, lows, highs, units):\n",
    "    \"\"\"Returns a list of low/high labels with units (e.g. [8mm, 10mm])\"\"\"\n",
    "    return [str(lows[key]) + units[key], str(highs[key]) + units[key]]\n",
    "\n",
    "def plot_shift(runs, delta, sigma):\n",
    "    \"\"\"Plots two sets of random normal data, one shifted up delta units.\"\"\"\n",
    "    mean = 5\n",
    "    low = sigma*np.random.randn(int(runs/2),1)+mean\n",
    "    high = sigma*np.random.randn(int(runs/2),1)+mean+delta\n",
    "    fig = plt.figure()\n",
    "    ax = fig.add_subplot(111)\n",
    "    ax.set_ylabel(\"taste\")\n",
    "    ax.set_xlabel(\"runs\")\n",
    "    \n",
    "    plt.plot(np.concatenate([low, high]))\n",
    "    plt.plot([0, (runs/2)], [low.mean()] * 2, color='firebrick', lw=2)\n",
    "    plt.plot([(runs/2), runs-1], [high.mean()] * 2, color='g', lw=2)\n",
    "    \n",
    "    p_value = scipy.stats.f_oneway(low, high).pvalue[0]\n",
    "    plt.annotate(\"p: {:.5f}\".format(p_value),\n",
    "                 xy=(runs / 2, (low.mean() + high.mean()) / 2), xycoords='data',\n",
    "                 xytext=(.8, .9), textcoords='axes fraction',\n",
    "                 bbox=dict(boxstyle=\"round4\", fc=\"w\"),\n",
    "                 arrowprops=dict(arrowstyle='fancy', color='DarkOrange', connectionstyle=\"arc3,rad=0.3\"))\n",
    "\n",
    "    plt.show()\n",
    "    return [low, high]\n"
   ]
  },
  {
   "cell_type": "markdown",
   "metadata": {
    "nbpresent": {
     "id": "132443fd-23b6-4758-a074-be108db02fd9"
    },
    "slideshow": {
     "slide_type": "slide"
    }
   },
   "source": [
    "# dexpy/Design-Expert history\n",
    "\n",
    "* Initial release 1985, written in Pascal\n",
    "* Moved to C++ in 1996\n",
    "* Used Python for some prototyping/validation, but mostly R\n",
    "* Started using Python with Boost::Python in 2015 for testing components\n",
    "* Moved to build system to waf (Python) from CMake (DSL)\n",
    "* Created dexpy in 2016 based on the Design-Expert testing library"
   ]
  },
  {
   "cell_type": "markdown",
   "metadata": {
    "collapsed": false,
    "slideshow": {
     "slide_type": "slide"
    }
   },
   "source": [
    "# Design of Experiments\n",
    "\n",
    "A systematic series of tests, in which purposeful changes are made to input factors, so that you may identify causes for significant changes in the output repsonses.\n",
    "\n",
    "  * Developed by Ronald Fisher in the 20s\n",
    "  * \"The Design of Experiments\" introduced null hypothesis\n",
    "  * Lady Tasting Tea experiment; milk or tea poured into cup first?\n",
    "    * 8 cups prepared, 4 tasted: 70 permutations, 1.6% chance of random success"
   ]
  },
  {
   "cell_type": "code",
   "execution_count": null,
   "metadata": {
    "collapsed": false,
    "slideshow": {
     "slide_type": "-"
    }
   },
   "outputs": [],
   "source": [
    "dot = Digraph(comment='Design of Experiments')\n",
    "dot.body.extend(['rankdir=LR', 'size=\"10,10\"'])\n",
    "dot.node_attr.update(shape='rectangle', style='filled', fontsize='20', fontname=\"helvetica\")\n",
    "\n",
    "dot.node('X', 'Controllable Factors', color='mediumseagreen', width='3')\n",
    "dot.node('Z', 'Noise Factors', color='indianred2', width='3')\n",
    "dot.node('P', 'Process', color='lightblue', height='1.25', width='3')\n",
    "dot.node('Y', 'Responses', color='lightblue')\n",
    "\n",
    "dot.edges(['XP', 'ZP', 'PY'] * 3)\n",
    "\n",
    "dot"
   ]
  },
  {
   "cell_type": "markdown",
   "metadata": {
    "slideshow": {
     "slide_type": "slide"
    }
   },
   "source": [
    "# Motivating Example: Coffee\n",
    "\n",
    " * Current coffee is subpar (\"digusting and unacceptable\")\n",
    " * Need to answer the following questions via experimentation:\n",
    "  * What coffee beans to use?\n",
    "  * How much coffee to use?\n",
    "  * How to grind the coffee?"
   ]
  },
  {
   "cell_type": "markdown",
   "metadata": {
    "slideshow": {
     "slide_type": "subslide"
    }
   },
   "source": [
    "# Motivating Example: Coffee\n",
    "\n",
    " * 5 input factors\n",
    "  * Amount of Coffee (2.5 to 4.0 oz.)\n",
    "  * Grind size (8-10mm)\n",
    "  * Brew time (3.5 to 4.5 minutes)\n",
    "  * Grind Type (burr vs blade)\n",
    "  * Coffee beans (light vs dark)\n",
    " * 1 response: Average overall liking by a panel of 5 office coffee addicts\n",
    "  * Each taster rates the coffee from 1-9\n",
    " * Maximum of 3 taste tests a day, for liability reasons\n",
    " "
   ]
  },
  {
   "cell_type": "code",
   "execution_count": null,
   "metadata": {
    "collapsed": true,
    "slideshow": {
     "slide_type": "skip"
    }
   },
   "outputs": [],
   "source": [
    "# set some variables related to the coffee data set\n",
    "actual_lows = { 'amount' : 2.5, 'grind_size' : 8, 'brew_time': 3.5, 'grind_type': 'burr', 'beans': 'light' }\n",
    "actual_highs = { 'amount' : 4, 'grind_size' : 10, 'brew_time': 4.5, 'grind_type': 'blade', 'beans': 'dark' }\n",
    "units = { 'amount' : 'oz', 'grind_size' : 'mm', 'brew_time': 'm', 'grind_type': '', 'beans': '' }"
   ]
  },
  {
   "cell_type": "markdown",
   "metadata": {
    "slideshow": {
     "slide_type": "subslide"
    }
   },
   "source": [
    "             ((((\n",
    "            ((((\n",
    "             ))))\n",
    "          _ .---.\n",
    "         ( |`---'|\n",
    "          \\|     |\n",
    "          : `---' :\n",
    "           `-----'"
   ]
  },
  {
   "cell_type": "markdown",
   "metadata": {
    "slideshow": {
     "slide_type": "slide"
    }
   },
   "source": [
    "# Traditional Experimentation\n",
    "\n",
    "* One factor at a time\n",
    "* Cannot detect interactions\n",
    "* Inefficient"
   ]
  },
  {
   "cell_type": "code",
   "execution_count": null,
   "metadata": {
    "collapsed": false,
    "slideshow": {
     "slide_type": "fragment"
    }
   },
   "outputs": [],
   "source": [
    "points = [\n",
    "    [-1, -1],\n",
    "    [-1, 1],\n",
    "    [1, -1],\n",
    "    [-1, -1],\n",
    "    [-1, 1],\n",
    "    [1, -1],\n",
    "]\n",
    "df = pd.DataFrame(points, columns=['grind_size', 'amount'])\n",
    "fg = sns.lmplot('amount', 'grind_size', data=df, fit_reg=False)\n",
    "\n",
    "p = patches.Polygon(points, color=\"navy\", alpha=0.3, lw=2)\n",
    "ax = fg.axes[0, 0]\n",
    "ax.add_patch(p)\n",
    "ax.set_xticks([-1, 1])\n",
    "ax.set_xticklabels(get_tick_labels('amount', actual_lows, actual_highs, units))\n",
    "ax.set_yticks([-1, 1])\n",
    "ax.set_yticklabels(get_tick_labels('grind_size', actual_lows, actual_highs, units))\n",
    "\n",
    "p = patches.Polygon([[-1, 1], [1, 1], [1, -1]], color=\"firebrick\", alpha=0.3, lw=2)\n",
    "p = ax.add_patch(p)\n"
   ]
  },
  {
   "cell_type": "code",
   "execution_count": null,
   "metadata": {
    "collapsed": false,
    "slideshow": {
     "slide_type": "subslide"
    }
   },
   "outputs": [],
   "source": [
    "cube_design = dexpy.factorial.build_factorial(3, 8)\n",
    "\n",
    "points = np.array(cube_design)\n",
    "fig = plt.figure()\n",
    "\n",
    "ax = fig.add_subplot(111, projection='3d', axisbg='w')\n",
    "ax.view_init(30, -60) # rotate plot\n",
    "\n",
    "X, Y = np.meshgrid([-1,1], [-1,1])\n",
    "\n",
    "cube_alpha = 0.1\n",
    "ax.plot_surface(X, Y, 1, alpha=cube_alpha, color=\"r\")\n",
    "ax.plot_surface(X, Y, -1, alpha=cube_alpha)\n",
    "ax.plot_surface(X, -1, Y, alpha=cube_alpha)\n",
    "ax.plot_surface(X, 1, Y, alpha=cube_alpha, color=\"r\")\n",
    "ax.plot_surface(1, X, Y, alpha=cube_alpha, color=\"r\")\n",
    "ax.plot_surface(-1, X, Y, alpha=cube_alpha)\n",
    "ax.scatter3D(points[:, 0], points[:, 1], points[:, 2],\n",
    "             c=[\"b\", \"b\", \"b\", \"r\", \"b\", \"r\", \"r\", \"r\"])\n",
    "\n",
    "ax.set_xticks([-1, 1])\n",
    "ax.set_xticklabels(get_tick_labels('grind_size', actual_lows, actual_highs, units))\n",
    "ax.set_yticks([-1, 1])\n",
    "ax.set_yticklabels(get_tick_labels('amount', actual_lows, actual_highs, units))\n",
    "ax.set_zticks([-1, 1])\n",
    "ax.set_zticklabels(get_tick_labels('beans', actual_lows, actual_highs, units))\n",
    "\n",
    "plt.show()"
   ]
  },
  {
   "cell_type": "markdown",
   "metadata": {
    "slideshow": {
     "slide_type": "slide"
    }
   },
   "source": [
    "# Factorial Design\n",
    "\n",
    "* Multifactor testing\n",
    "* Reveals interactions\n",
    "* Maximizes information with minimum runs"
   ]
  },
  {
   "cell_type": "code",
   "execution_count": null,
   "metadata": {
    "collapsed": false,
    "slideshow": {
     "slide_type": "fragment"
    }
   },
   "outputs": [],
   "source": [
    "df = dexpy.factorial.build_factorial(2, 4)\n",
    "df.columns = ['amount', 'grind_size']\n",
    "\n",
    "fg = sns.lmplot('amount', 'grind_size', data=df, fit_reg=False)\n",
    "ax = fg.axes[0, 0]\n",
    "ax.set_xticks([-1, 1])\n",
    "ax.set_xticklabels(get_tick_labels('amount', actual_lows, actual_highs, units))\n",
    "ax.set_yticks([-1, 1])\n",
    "ax.set_yticklabels(get_tick_labels('grind_size', actual_lows, actual_highs, units))\n",
    "p = ax.add_patch(patches.Rectangle((-1, -1), 2, 2, color=\"navy\", alpha=0.3, lw=2))"
   ]
  },
  {
   "cell_type": "code",
   "execution_count": null,
   "metadata": {
    "collapsed": false,
    "slideshow": {
     "slide_type": "subslide"
    }
   },
   "outputs": [],
   "source": [
    "cube_design = dexpy.factorial.build_factorial(3, 8)\n",
    "\n",
    "points = np.array(cube_design)\n",
    "fig = plt.figure()\n",
    "\n",
    "ax = fig.add_subplot(111, projection='3d', axisbg='w')\n",
    "ax.view_init(30, -60) # rotate plot\n",
    "\n",
    "X, Y = np.meshgrid([-1,1], [-1,1])\n",
    "\n",
    "cube_alpha = 0.1\n",
    "ax.plot_surface(X, Y, 1, alpha=cube_alpha)\n",
    "ax.plot_surface(X, Y, -1, alpha=cube_alpha)\n",
    "ax.plot_surface(X, -1, Y, alpha=cube_alpha)\n",
    "ax.plot_surface(X, 1, Y, alpha=cube_alpha)\n",
    "ax.plot_surface(1, X, Y, alpha=cube_alpha)\n",
    "ax.plot_surface(-1, X, Y, alpha=cube_alpha)\n",
    "ax.scatter3D(points[:, 0], points[:, 1], points[:, 2], c=\"b\")\n",
    "\n",
    "ax.set_xticks([-1, 1])\n",
    "ax.set_xticklabels([\"8mm\", \"10mm\"])\n",
    "ax.set_yticks([-1, 1])\n",
    "ax.set_yticklabels([\"2.5oz\", \"4oz\"])\n",
    "ax.set_zticks([-1, 1])\n",
    "ax.set_zticklabels([\"light\", \"dark\"])\n",
    "\n",
    "plt.show()"
   ]
  },
  {
   "cell_type": "markdown",
   "metadata": {
    "slideshow": {
     "slide_type": "slide"
    }
   },
   "source": [
    "# Statistical Power\n",
    "\n",
    "The probability that a design will detect an active effect.\n",
    "\n",
    "| Effect?       | Retain H<sub>0</sub>   | Reject H<sub>0</sub>    |\n",
    "| ------------- |:-----------------------| -----------------------:|\n",
    "| **No**        | OK                     | Type 1 Error            |\n",
    "| **Yes**       | Type II Error          | OK                      |\n",
    "\n",
    "Power is expressed as a probability to detect an effect of size Δ, given noise σ. This is typically given as a delta to sigma ratio Δ/σ. Power is a function of the signal to noise ratio, as well as the number and layout of experiments in the design."
   ]
  },
  {
   "cell_type": "code",
   "execution_count": null,
   "metadata": {
    "collapsed": false,
    "slideshow": {
     "slide_type": "slide"
    }
   },
   "outputs": [],
   "source": [
    "runs = 50\n",
    "delta = 0.5\n",
    "sigma = 1.5\n",
    "alpha = 0.05\n",
    "\n",
    "one_factor = pd.DataFrame([ -1, 1 ] * runs, columns=['beans'])\n",
    "one_factor_power = dexpy.power.f_power('beans', one_factor, delta/sigma, alpha)\n",
    "\n",
    "display(Markdown('''\n",
    "# Power Example\n",
    "{} pots of coffee are tested with light beans, then {} pots with dark beans.\n",
    "There is a variance of {} taste rating from pot to pot. If we expect a {} change\n",
    "in the taste rating when going from light to dark, what is the likelihood we would detect it?\n",
    "(Answer: **{:.2f}%**)\n",
    "\n",
    "Note: this assumes that we reject H<sub>0</sub> at p <= {}\n",
    "'''.format(int(runs / 2), int(runs / 2), sigma, delta, one_factor_power[1]*100, alpha)\n",
    "))\n",
    "\n",
    "low, high = plot_shift(runs, delta, sigma)"
   ]
  },
  {
   "cell_type": "code",
   "execution_count": null,
   "metadata": {
    "collapsed": false,
    "slideshow": {
     "slide_type": "subslide"
    }
   },
   "outputs": [],
   "source": [
    "increased_delta = delta*2\n",
    "increased_delta_power = dexpy.power.f_power('beans', one_factor, increased_delta/sigma, alpha)\n",
    "\n",
    "display(Markdown('''\n",
    "# Power Example - Increase Delta\n",
    "What if we don't care about a taste increase of 0.5? That's not that much better\n",
    "than the current coffee, after all. Instead, if we say we only care about a change\n",
    "in rating above {}, what is the likelihood we would detect such a change?\n",
    "(Answer: **{:.2f}%**)\n",
    "'''.format(increased_delta, increased_delta_power[1]*100)\n",
    "))\n",
    "\n",
    "_ = plot_shift(runs, increased_delta, sigma)"
   ]
  },
  {
   "cell_type": "code",
   "execution_count": null,
   "metadata": {
    "collapsed": false,
    "slideshow": {
     "slide_type": "subslide"
    }
   },
   "outputs": [],
   "source": [
    "decreased_sigma = sigma*0.5\n",
    "decreased_sigma_power = dexpy.power.f_power('beans', one_factor, delta/decreased_sigma, alpha)\n",
    "\n",
    "display(Markdown('''\n",
    "# Power Example - Decrease Noise\n",
    "Instead of lowering our standards for our noisy taste ratings, instead\n",
    "we could bring in expert testers who have a much more accurate palate.\n",
    "If we assume a decrease in noise from {} to {}, then we can detect a\n",
    "change in rating of {} with {:.2f}% probability.\n",
    "'''.format(sigma, decreased_sigma, delta, decreased_sigma_power[1]*100)\n",
    "))\n",
    "\n",
    "_ = plot_shift(runs, delta, sigma*0.1)"
   ]
  },
  {
   "cell_type": "code",
   "execution_count": null,
   "metadata": {
    "collapsed": false,
    "slideshow": {
     "slide_type": "subslide"
    }
   },
   "outputs": [],
   "source": [
    "increased_runs = runs * 4\n",
    "one_factor = pd.DataFrame([ -1, 1 ] * increased_runs, columns=['beans'])\n",
    "increased_runs_power = dexpy.power.f_power('beans', one_factor, delta/sigma, alpha)\n",
    "\n",
    "display(Markdown('''\n",
    "# Power Example - Increase Runs\n",
    "If expert testers are too expensive, and we are unwilling to compromise\n",
    "our standards, then the only remaining option is to create a more powerful\n",
    "design. In this toy example, there isn't much we can do, since it's\n",
    "just one factor. Increasing the runs from {} to {} gives a power of\n",
    "{:.2f}%. This may be a more acceptable success rate than the original power\n",
    "of {:.2f}%, however... that is a lot of coffee to drink.\n",
    "\n",
    "For more complicated designs changing the structure of the design\n",
    "can also increase power. We'll see this in the OFAT vs Factorial comparison later.\n",
    "'''.format(runs, increased_runs, increased_runs_power[1]*100, one_factor_power[1]*100)\n",
    "))\n",
    "_ = plot_shift(increased_runs, delta, sigma)"
   ]
  },
  {
   "cell_type": "code",
   "execution_count": null,
   "metadata": {
    "collapsed": false,
    "nbpresent": {
     "id": "afc624d6-8a65-4880-bef4-5d2f77dc8cb2"
    },
    "slideshow": {
     "slide_type": "slide"
    }
   },
   "outputs": [],
   "source": [
    "base_point = [-1, -1, -1, -1, -1]\n",
    "ofat_points = [base_point]\n",
    "\n",
    "for i in range(0, 5):\n",
    "    new_point = base_point[:]\n",
    "    new_point[i] = 1\n",
    "    ofat_points.append(new_point)\n",
    "\n",
    "sn = 2.0\n",
    "alpha = 0.05\n",
    "\n",
    "ofat_df = pd.DataFrame(ofat_points*5, columns=['amount', 'grind_size', 'brew_time', 'grind_type', 'beans'])\n",
    "ofat_power = dexpy.power.f_power('+'.join(ofat_df.columns), ofat_df, sn, alpha)\n",
    "ofat_power.pop(0) # remove intercept\n",
    "ofat_power = ['{0:.2f}%'.format(i*100) for i in ofat_power] # convert to %\n",
    "ofat_power = pd.DataFrame(ofat_power, columns=['Power'], index=ofat_df.columns)\n",
    "\n",
    "display(Markdown(\"# OFAT Power:\"))\n",
    "display(Markdown(\"{} total runs, with a signal to noise ratio of 2.\".format(len(ofat_df))))\n",
    "display(PrettyPandas(ofat_power))"
   ]
  },
  {
   "cell_type": "code",
   "execution_count": null,
   "metadata": {
    "collapsed": false,
    "slideshow": {
     "slide_type": "slide"
    }
   },
   "outputs": [],
   "source": [
    "full_design = dexpy.factorial.build_factorial(5, 2**5)\n",
    "full_design.columns = ['amount', 'grind_size', 'brew_time', 'grind_type', 'beans']\n",
    "factorial_power = dexpy.power.f_power(\"+\".join(full_design.columns), full_design, sn, alpha)\n",
    "factorial_power.pop(0)\n",
    "factorial_power = ['{0:.2f}%'.format(i*100) for i in factorial_power] # convert to %\n",
    "factorial_power = pd.DataFrame(factorial_power, columns=['Power'], index=full_design.columns)\n",
    "\n",
    "display(Markdown(\"# Factorial Power to Detect Change of 2 Units:\"))\n",
    "display(Markdown(\"{} total runs, with a signal to noise ratio of 2.\".format(len(full_design))))\n",
    "display(PrettyPandas(factorial_power))"
   ]
  },
  {
   "cell_type": "markdown",
   "metadata": {
    "collapsed": true,
    "slideshow": {
     "slide_type": "slide"
    }
   },
   "source": [
    "# Fractional Factorials\n",
    "\n",
    "* Coffee experiment is 2<sup>5</sup> runs (32)\n",
    "* We want to do a couple of center point runs to check for curvature\n",
    " * Center points must be replicated for each combination\n",
    " * We have 2 categoric factors (grind type and bean type), with 2 levels each\n",
    " * We will have 4 total center points\n",
    "* Total runs = 36, 3 per day if all testers are in the office\n",
    "* Estimate experiment will take a month"
   ]
  },
  {
   "cell_type": "markdown",
   "metadata": {
    "slideshow": {
     "slide_type": "slide"
    }
   },
   "source": [
    "# Fractional Factorials\n",
    "* Power for the experiment is > 99%\n",
    "* Full factorial is overkill\n",
    "* Sacrifice estimability of higher order interactions (ABCDE, ABCD, etc) to reduce experiment size\n",
    "* 2<sup>5-1</sup> is \"Resolution IV\", i.e. all interactions can be cleanly estimated"
   ]
  },
  {
   "cell_type": "code",
   "execution_count": null,
   "metadata": {
    "collapsed": false,
    "slideshow": {
     "slide_type": "slide"
    }
   },
   "outputs": [],
   "source": [
    "coffee_design = dexpy.factorial.build_factorial(5, 2**(5-1))\n",
    "coffee_design.columns = ['amount', 'grind_size', 'brew_time', 'grind_type', 'beans']\n",
    "center_points = [\n",
    "    [0, 0, 0, -1, -1],\n",
    "    [0, 0, 0, -1, 1],\n",
    "    [0, 0, 0, 1, -1],\n",
    "    [0, 0, 0, 1, 1]\n",
    "]\n",
    "\n",
    "coffee_design = coffee_design.append(pd.DataFrame(center_points * 2, columns=coffee_design.columns))\n",
    "coffee_design.index = np.arange(0, len(coffee_design))\n",
    "\n",
    "actual_design = coded_to_actual(coffee_design, actual_lows, actual_highs)\n",
    "\n",
    "display(Markdown(\"## Design Matrix\"))\n",
    "display(PrettyPandas(actual_design))"
   ]
  },
  {
   "cell_type": "code",
   "execution_count": null,
   "metadata": {
    "collapsed": false,
    "slideshow": {
     "slide_type": "subslide"
    }
   },
   "outputs": [],
   "source": [
    "factorial_power = dexpy.power.f_power('+'.join(coffee_design.columns), coffee_design, sn, alpha)\n",
    "factorial_power.pop(0)\n",
    "factorial_power = ['{0:.2f}%'.format(i*100) for i in factorial_power] # convert to %\n",
    "factorial_power = pd.DataFrame(factorial_power, columns=['Power'], index=coffee_design.columns)\n",
    "\n",
    "display(Markdown(\"## Power for {} total runs, with a signal to noise ratio of 2.\".format(len(coffee_design))))\n",
    "display(PrettyPandas(factorial_power))"
   ]
  },
  {
   "cell_type": "code",
   "execution_count": null,
   "metadata": {
    "collapsed": false
   },
   "outputs": [],
   "source": [
    "\n",
    "twofi_model = \"(\" + '+'.join(coffee_design.columns) + \")**2\"\n",
    "desc = patsy.ModelDesc.from_formula(twofi_model)\n",
    "factorial_power = dexpy.power.f_power(twofi_model, coffee_design, sn, alpha)\n",
    "factorial_power.pop(0)\n",
    "factorial_power = ['{0:.2f}%'.format(i*100) for i in factorial_power] # convert to %\n",
    "factorial_power = pd.DataFrame(factorial_power, columns=['Power'], index=desc.describe().strip(\"~ \").split(\" + \"))\n",
    "\n",
    "display(Markdown(\"## Power for {} total runs, with a signal to noise ratio of 2.\".format(len(coffee_design))))\n",
    "display(PrettyPandas(factorial_power))"
   ]
  },
  {
   "cell_type": "code",
   "execution_count": null,
   "metadata": {
    "collapsed": false,
    "slideshow": {
     "slide_type": "slide"
    }
   },
   "outputs": [],
   "source": [
    "display(Markdown('''\n",
    "# Aliasing\n",
    "\n",
    "When you don't run all combinations of inputs, you lose the ability to estimate terms.\n",
    "Some terms will be linear combinations of other terms. For example, the alias \"A = BC\"\n",
    "means that if you multiply the B and C columns together it is exactly the same as column\n",
    "A, and therefore you cannot estimate both of them at the same time.\n",
    "\n",
    "What did we lose by removing runs in our fractional factorial?\n",
    "\n",
    "Using dexpy.alias.alias_list with a model of order 3, the following aliases are reported:\n",
    "'''))\n",
    "\n",
    "full_model = \"(\" + '+'.join(coffee_design.columns) + \")**3\"\n",
    "aliases, _ = dexpy.alias.alias_list(full_model, coffee_design)\n",
    "for a in aliases:\n",
    "    print(a)"
   ]
  },
  {
   "cell_type": "code",
   "execution_count": null,
   "metadata": {
    "collapsed": false,
    "slideshow": {
     "slide_type": "slide"
    }
   },
   "outputs": [],
   "source": [
    "coffee_design['taste_rating'] = [\n",
    "    4.53, 1.6336, 1.363, 8.7, 1.679, 2.895, 7.341, 3.642, # A low\n",
    "    6.974, 3.398, 3.913, 9.04, 5.092, 3.718, 8.227, 6.992, # A high\n",
    "    4.419, 6.806, 3.512, 5.36, 4.865, 6.342, 4.38, 5.942 # center points\n",
    "]\n",
    "lm = statsmodels.formula.api.ols(\"taste_rating ~\" + twofi_model, data=coffee_design).fit()\n",
    "print(lm.summary2())"
   ]
  },
  {
   "cell_type": "code",
   "execution_count": null,
   "metadata": {
    "collapsed": false,
    "slideshow": {
     "slide_type": "slide"
    }
   },
   "outputs": [],
   "source": [
    "reduced_model = \"amount + grind_size + brew_time + grind_type + beans + amount:beans + grind_size:brew_time + grind_size:grind_type\"\n",
    "lm = statsmodels.formula.api.ols(\"taste_rating ~\" + reduced_model, data=coffee_design).fit()\n",
    "print(lm.summary2())"
   ]
  },
  {
   "cell_type": "code",
   "execution_count": null,
   "metadata": {
    "collapsed": false
   },
   "outputs": [],
   "source": [
    "actual_predicted = pd.DataFrame({ 'actual': coffee_design['taste_rating'],\n",
    "                                  'predicted': lm.predict(coffee_design)\n",
    "                                }, index=np.arange(len(coffee_design['taste_rating'])))\n",
    "fg = sns.lmplot('actual', 'predicted', data=actual_predicted, fit_reg=True)\n",
    "ax = fg.axes[0, 0]\n",
    "ax.set_xticks(np.arange(1, 11))\n",
    "ax.set_xlim([0, 11])\n",
    "ax.set_yticks(np.arange(1, 11))\n",
    "_ = ax.set_ylim([0, 11])"
   ]
  }
 ],
 "metadata": {
  "anaconda-cloud": {},
  "celltoolbar": "Slideshow",
  "kernelspec": {
   "display_name": "Python 3",
   "language": "python",
   "name": "python3"
  },
  "language_info": {
   "codemirror_mode": {
    "name": "ipython",
    "version": 3
   },
   "file_extension": ".py",
   "mimetype": "text/x-python",
   "name": "python",
   "nbconvert_exporter": "python",
   "pygments_lexer": "ipython3",
   "version": "3.4.5"
  },
  "nbpresent": {
   "slides": {
    "69ca5852-a257-4b32-a164-46fd17e89d5d": {
     "id": "69ca5852-a257-4b32-a164-46fd17e89d5d",
     "layout": "grid",
     "prev": "7af1a671-4249-4e3e-ad27-77e10146d8c3",
     "regions": {
      "08479882-590c-4dcd-97e0-6461b2662cc7": {
       "attrs": {
        "height": 0.4166666666666667,
        "pad": 0.01,
        "width": 0.8333333333333334,
        "x": 0.08333333333333333,
        "y": 0.5
       },
       "content": {
        "cell": "afc624d6-8a65-4880-bef4-5d2f77dc8cb2",
        "part": "outputs"
       },
       "id": "08479882-590c-4dcd-97e0-6461b2662cc7"
      },
      "281a2605-2b2f-4c5a-8454-f2f478b60461": {
       "attrs": {
        "height": 0.4166666666666667,
        "pad": 0.01,
        "width": 0.8333333333333334,
        "x": 0.08333333333333333,
        "y": 0.08333333333333333
       },
       "content": {
        "cell": "afc624d6-8a65-4880-bef4-5d2f77dc8cb2",
        "part": "source"
       },
       "id": "281a2605-2b2f-4c5a-8454-f2f478b60461"
      }
     },
     "theme": null
    },
    "7af1a671-4249-4e3e-ad27-77e10146d8c3": {
     "id": "7af1a671-4249-4e3e-ad27-77e10146d8c3",
     "prev": null,
     "regions": {
      "0e6b4598-b189-48a7-9e0e-43beda6fa796": {
       "attrs": {
        "height": 0.2,
        "width": 0.4,
        "x": 0.1,
        "y": 0.7
       },
       "content": {
        "cell": "afc624d6-8a65-4880-bef4-5d2f77dc8cb2",
        "part": "source"
       },
       "id": "0e6b4598-b189-48a7-9e0e-43beda6fa796"
      },
      "3d5a9d45-6ebb-4aff-b393-77b42fe7a9d5": {
       "attrs": {
        "height": 0.6,
        "width": 0.8,
        "x": 0.1,
        "y": 0.1
       },
       "content": {
        "cell": "132443fd-23b6-4758-a074-be108db02fd9",
        "part": "source"
       },
       "id": "3d5a9d45-6ebb-4aff-b393-77b42fe7a9d5"
      },
      "d44fc3d2-a017-47e8-87d9-dc52608832d5": {
       "attrs": {
        "height": 0.2,
        "width": 0.4,
        "x": 0.5,
        "y": 0.7
       },
       "content": {
        "cell": "afc624d6-8a65-4880-bef4-5d2f77dc8cb2",
        "part": "outputs"
       },
       "id": "d44fc3d2-a017-47e8-87d9-dc52608832d5"
      }
     }
    }
   },
   "themes": {}
  }
 },
 "nbformat": 4,
 "nbformat_minor": 1
}

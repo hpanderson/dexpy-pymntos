{
 "cells": [
  {
   "cell_type": "code",
   "execution_count": null,
   "metadata": {
    "collapsed": true,
    "slideshow": {
     "slide_type": "skip"
    }
   },
   "outputs": [],
   "source": [
    "# import packages here to reduce the size of code cells later\n",
    "\n",
    "import pandas as pd\n",
    "from prettypandas import PrettyPandas\n",
    "import patsy\n",
    "\n",
    "import numpy as np\n",
    "import scipy.stats\n",
    "import statsmodels.formula.api\n",
    "import statsmodels.api as sm\n",
    "\n",
    "from graphviz import Digraph\n",
    "import seaborn as sns\n",
    "\n",
    "import dexpy.factorial\n",
    "import dexpy.alias\n",
    "import dexpy.power\n",
    "\n",
    "from mpl_toolkits.mplot3d import Axes3D\n",
    "import matplotlib.pyplot as plt\n",
    "from matplotlib import patches\n",
    "\n",
    "from IPython.display import display, Markdown, HTML\n"
   ]
  },
  {
   "cell_type": "code",
   "execution_count": null,
   "metadata": {
    "collapsed": false,
    "slideshow": {
     "slide_type": "skip"
    }
   },
   "outputs": [],
   "source": [
    "from IPython.core.display import HTML\n",
    "HTML('''<script>\n",
    "code_show=true; \n",
    "function code_toggle() {\n",
    " if (code_show){\n",
    " $('div.input').hide();\n",
    " } else {\n",
    " $('div.input').show();\n",
    " }\n",
    " code_show = !code_show\n",
    "} \n",
    "$( document ).ready(code_toggle);\n",
    "</script>\n",
    "The raw code for this IPython notebook is by default hidden for easier reading.\n",
    "To toggle on/off the raw code, click <a href=\"javascript:code_toggle()\">here</a>.''')"
   ]
  },
  {
   "cell_type": "code",
   "execution_count": null,
   "metadata": {
    "collapsed": false,
    "slideshow": {
     "slide_type": "skip"
    }
   },
   "outputs": [],
   "source": [
    "# helper functions for this notebook\n",
    "\n",
    "# use SVG for matplotlib-based figures\n",
    "%matplotlib inline\n",
    "%config InlineBackend.figure_format = 'svg'\n",
    "\n",
    "def coded_to_actual(coded_data, actual_lows, actual_highs):\n",
    "    \"\"\"Converts a pandas DataFrame from coded units to actuals.\"\"\"\n",
    "    actual_data = coded_data.copy()\n",
    "    for col in actual_data.columns:\n",
    "        if not (col in actual_highs and col in actual_lows):\n",
    "            continue\n",
    "        try:\n",
    "            # convert continuous variables to their actual value\n",
    "            actual_data[col] *= 0.5 * (float(actual_highs[col]) - float(actual_lows[col]))\n",
    "            # don't need to cast to float here, if either are not a float exception will have been thrown\n",
    "            actual_data[col] += 0.5 * (actual_highs[col] + actual_lows[col])\n",
    "        except ValueError:\n",
    "            # assume 2 level categorical\n",
    "            actual_data[col] = actual_data[col].map({-1: actual_lows[col], 1: actual_highs[col]})\n",
    "    return actual_data\n",
    "        \n",
    "def get_tick_labels(key, lows, highs, units):\n",
    "    \"\"\"Returns a list of low/high labels with units (e.g. [8mm, 10mm])\"\"\"\n",
    "    return [str(lows[key]) + units[key], str(highs[key]) + units[key]]"
   ]
  },
  {
   "cell_type": "markdown",
   "metadata": {
    "slideshow": {
     "slide_type": "slide"
    }
   },
   "source": [
    "# Design of Experiments in Python\n",
    "\n",
    "Hank Anderson  \n",
    "<hank@statease.com>  \n",
    "https://github.com/hpanderson/dexpy-pymntos  "
   ]
  },
  {
   "cell_type": "markdown",
   "metadata": {
    "slideshow": {
     "slide_type": "slide"
    }
   },
   "source": [
    "# Agenda\n",
    "\n",
    "* What is Design of Experiments?\n",
    "* Design an experiment with `dexpy` to improve the office coffee\n",
    "* Measure the power of our experiment\n",
    "* Model the taste test results using `statsmodels`\n",
    "* Visualize the data with `seaborn` and `matplotlib` to find the best pot of coffee"
   ]
  },
  {
   "cell_type": "markdown",
   "metadata": {
    "collapsed": false,
    "slideshow": {
     "slide_type": "slide"
    }
   },
   "source": [
    "# What is Design of Experiments (DoE)?\n",
    "\n",
    "A systematic series of tests, in which purposeful changes are made to input factors, so that you may identify causes for significant changes in the output responses.\n",
    "\n",
    "NIST has a [nice primer on DOE](http://www.itl.nist.gov/div898/handbook/pri/section1/pri1.htm)."
   ]
  },
  {
   "cell_type": "code",
   "execution_count": null,
   "metadata": {
    "collapsed": false,
    "slideshow": {
     "slide_type": "-"
    }
   },
   "outputs": [],
   "source": [
    "dot = Digraph(comment='Design of Experiments')\n",
    "dot.body.extend(['rankdir=LR', 'size=\"10,10\"'])\n",
    "dot.node_attr.update(shape='rectangle', style='filled', fontsize='20', fontname=\"helvetica\")\n",
    "\n",
    "dot.node('X', 'Controllable Factors', color='mediumseagreen', width='3')\n",
    "dot.node('Z', 'Noise Factors', color='indianred2', width='3')\n",
    "dot.node('P', 'Process', color='lightblue', height='1.25', width='3')\n",
    "dot.node('Y', 'Responses', color='lightblue')\n",
    "\n",
    "dot.edges(['XP', 'ZP', 'PY'] * 3)\n",
    "\n",
    "dot"
   ]
  },
  {
   "cell_type": "markdown",
   "metadata": {
    "slideshow": {
     "slide_type": "slide"
    }
   },
   "source": [
    "# What Is It For?\n",
    "\n",
    "* Screening Experiments - Determining which inputs to your system are important\n",
    "* Modeling a Process - Gain a better understanding of your system\n",
    "* Optimization - Find the combination of inputs that results in a better output\n",
    "* Robustness - Find a combination of inputs that produces a consistent result"
   ]
  },
  {
   "cell_type": "markdown",
   "metadata": {
    "nbpresent": {
     "id": "132443fd-23b6-4758-a074-be108db02fd9"
    },
    "slideshow": {
     "slide_type": "slide"
    }
   },
   "source": [
    "# DoE in Python: dexpy\n",
    "\n",
    "* Based on Design-Expert<sup>&reg;</sup> software, a package for design and analysis of industrial experiments\n",
    "* Apache2 licensed, pure python (for now), available on pypi\n",
    "* Requires `numpy`, `scipy`, `pandas` and `patsy`\n",
    "* Recommend `statsmodels` for analysis, `matplotlib` and `seaborn` for visualization\n",
    "* Other alternatives are:\n",
    " * [pyDOE](https://github.com/tisimst/pyDOE) (not actively maintained)\n",
    " * R [???](https://cran.r-project.org/web/views/ExperimentalDesign.html)\n",
    " * [SciDOE](https://forge.scilab.org/index.php/p/scidoe/)\n",
    " * [gosset](http://neilsloane.com/gosset/)\n",
    " * Proprietary software ($$$) - [Design-Expert](https://www.statease.com), [JMP](https://www.jmp.com), [Minitab](https://www.minitab.com)"
   ]
  },
  {
   "cell_type": "markdown",
   "metadata": {
    "slideshow": {
     "slide_type": "slide"
    }
   },
   "source": [
    "# Motivating Example: Better Office Coffee\n",
    "\n",
    " * Current coffee is subpar (\"disgusting and unacceptable\")\n",
    " * Need to answer the following questions via experimentation:\n",
    "  * What coffee beans to use?\n",
    "  * How much coffee to use?\n",
    "  * How to grind the coffee?"
   ]
  },
  {
   "cell_type": "markdown",
   "metadata": {
    "slideshow": {
     "slide_type": "subslide"
    }
   },
   "source": [
    "# Motivating Example: Better Office Coffee\n",
    "\n",
    " * 5 input factors\n",
    "  * Amount of Coffee (2.5 to 4.0 oz.)\n",
    "  * Grind size (8-10mm)\n",
    "  * Brew time (3.5 to 4.5 minutes)\n",
    "  * Grind Type (burr vs blade)\n",
    "  * Coffee beans (light vs dark)\n",
    " * 1 response: Average overall liking by a panel of 5 office coffee addicts\n",
    "  * Each taster rates the coffee from 1-9\n",
    " * Maximum of 3 taste tests a day, for liability reasons\n",
    " "
   ]
  },
  {
   "cell_type": "code",
   "execution_count": null,
   "metadata": {
    "collapsed": true,
    "slideshow": {
     "slide_type": "skip"
    }
   },
   "outputs": [],
   "source": [
    "# set some variables related to the coffee data set\n",
    "actual_lows = { 'amount' : 2.5, 'grind_size' : 8, 'brew_time': 3.5, 'grind_type': 'burr', 'beans': 'light' }\n",
    "actual_highs = { 'amount' : 4, 'grind_size' : 10, 'brew_time': 4.5, 'grind_type': 'blade', 'beans': 'dark' }\n",
    "units = { 'amount' : 'oz', 'grind_size' : 'mm', 'brew_time': 'm', 'grind_type': '', 'beans': '' }"
   ]
  },
  {
   "cell_type": "markdown",
   "metadata": {
    "slideshow": {
     "slide_type": "subslide"
    }
   },
   "source": [
    "             ((((\n",
    "            ((((\n",
    "             ))))\n",
    "          _ .---.\n",
    "         ( |`---'|\n",
    "          \\|     |\n",
    "          : `---' :\n",
    "           `-----'"
   ]
  },
  {
   "cell_type": "markdown",
   "metadata": {
    "slideshow": {
     "slide_type": "skip"
    }
   },
   "source": [
    "# One Factor at a Time Experimentation\n",
    "\n",
    "* Hold all inputs constant, then change one at a time\n",
    "* Cannot detect interactions, e.g. grind size and amount of coffee have a synergistic relationship\n",
    "* Inefficient"
   ]
  },
  {
   "cell_type": "code",
   "execution_count": null,
   "metadata": {
    "collapsed": false,
    "slideshow": {
     "slide_type": "skip"
    }
   },
   "outputs": [],
   "source": [
    "points = [\n",
    "    [-1, -1],\n",
    "    [-1, 1],\n",
    "    [1, -1],\n",
    "    [-1, -1],\n",
    "    [-1, 1],\n",
    "    [1, -1],\n",
    "]\n",
    "df = pd.DataFrame(points, columns=['grind_size', 'amount'])\n",
    "fg = sns.lmplot('amount', 'grind_size', data=df, fit_reg=False)\n",
    "\n",
    "p = patches.Polygon(points, color=\"navy\", alpha=0.3, lw=2)\n",
    "ax = fg.axes[0, 0]\n",
    "ax.add_patch(p)\n",
    "ax.set_xticks([-1, 1])\n",
    "ax.set_xticklabels(get_tick_labels('amount', actual_lows, actual_highs, units))\n",
    "ax.set_yticks([-1, 1])\n",
    "ax.set_yticklabels(get_tick_labels('grind_size', actual_lows, actual_highs, units))\n",
    "\n",
    "p = patches.Polygon([[-1, 1], [1, 1], [1, -1]], color=\"firebrick\", alpha=0.3, lw=2)\n",
    "p = ax.add_patch(p)\n"
   ]
  },
  {
   "cell_type": "code",
   "execution_count": null,
   "metadata": {
    "collapsed": false,
    "slideshow": {
     "slide_type": "skip"
    }
   },
   "outputs": [],
   "source": [
    "cube_design = dexpy.factorial.build_factorial(3, 8)\n",
    "\n",
    "points = np.array(cube_design)\n",
    "fig = plt.figure()\n",
    "\n",
    "ax = fig.add_subplot(111, projection='3d', axisbg='w')\n",
    "ax.view_init(30, -60) # rotate plot\n",
    "\n",
    "X, Y = np.meshgrid([-1,1], [-1,1])\n",
    "\n",
    "cube_alpha = 0.1\n",
    "ax.plot_surface(X, Y, 1, alpha=cube_alpha, color=\"r\")\n",
    "ax.plot_surface(X, Y, -1, alpha=cube_alpha)\n",
    "ax.plot_surface(X, -1, Y, alpha=cube_alpha)\n",
    "ax.plot_surface(X, 1, Y, alpha=cube_alpha, color=\"r\")\n",
    "ax.plot_surface(1, X, Y, alpha=cube_alpha, color=\"r\")\n",
    "ax.plot_surface(-1, X, Y, alpha=cube_alpha)\n",
    "ax.scatter3D(points[:, 0], points[:, 1], points[:, 2],\n",
    "             c=[\"b\", \"b\", \"b\", \"r\", \"b\", \"r\", \"r\", \"r\"])\n",
    "\n",
    "ax.set_xticks([-1, 1])\n",
    "ax.set_xticklabels(get_tick_labels('grind_size', actual_lows, actual_highs, units))\n",
    "ax.set_yticks([-1, 1])\n",
    "ax.set_yticklabels(get_tick_labels('amount', actual_lows, actual_highs, units))\n",
    "ax.set_zticks([-1, 1])\n",
    "ax.set_zticklabels(get_tick_labels('beans', actual_lows, actual_highs, units))\n",
    "\n",
    "plt.show()"
   ]
  },
  {
   "cell_type": "markdown",
   "metadata": {
    "slideshow": {
     "slide_type": "slide"
    }
   },
   "source": [
    "# Factorial Design\n",
    "\n",
    "* Change multiple inputs at once\n",
    "* Reveals interactions\n",
    "* Maximizes information with minimum runs"
   ]
  },
  {
   "cell_type": "code",
   "execution_count": null,
   "metadata": {
    "collapsed": false,
    "slideshow": {
     "slide_type": "fragment"
    }
   },
   "outputs": [],
   "source": [
    "df = dexpy.factorial.build_factorial(2, 4)\n",
    "df.columns = ['amount', 'grind_size']\n",
    "\n",
    "fg = sns.lmplot('amount', 'grind_size', data=df, fit_reg=False)\n",
    "ax = fg.axes[0, 0]\n",
    "ax.set_xticks([-1, 1])\n",
    "ax.set_xticklabels(get_tick_labels('amount', actual_lows, actual_highs, units))\n",
    "ax.set_yticks([-1, 1])\n",
    "ax.set_yticklabels(get_tick_labels('grind_size', actual_lows, actual_highs, units))\n",
    "p = ax.add_patch(patches.Rectangle((-1, -1), 2, 2, color=\"navy\", alpha=0.3, lw=2))"
   ]
  },
  {
   "cell_type": "code",
   "execution_count": null,
   "metadata": {
    "collapsed": false,
    "slideshow": {
     "slide_type": "subslide"
    }
   },
   "outputs": [],
   "source": [
    "cube_design = dexpy.factorial.build_factorial(3, 8)\n",
    "\n",
    "points = np.array(cube_design)\n",
    "fig = plt.figure()\n",
    "\n",
    "ax = fig.add_subplot(111, projection='3d', axisbg='w')\n",
    "ax.view_init(30, -60) # rotate plot\n",
    "\n",
    "X, Y = np.meshgrid([-1,1], [-1,1])\n",
    "\n",
    "cube_alpha = 0.1\n",
    "ax.plot_surface(X, Y, 1, alpha=cube_alpha)\n",
    "ax.plot_surface(X, Y, -1, alpha=cube_alpha)\n",
    "ax.plot_surface(X, -1, Y, alpha=cube_alpha)\n",
    "ax.plot_surface(X, 1, Y, alpha=cube_alpha)\n",
    "ax.plot_surface(1, X, Y, alpha=cube_alpha)\n",
    "ax.plot_surface(-1, X, Y, alpha=cube_alpha)\n",
    "ax.scatter3D(points[:, 0], points[:, 1], points[:, 2], c=\"b\")\n",
    "\n",
    "ax.set_xticks([-1, 1])\n",
    "ax.set_xticklabels([\"8mm\", \"10mm\"])\n",
    "ax.set_yticks([-1, 1])\n",
    "ax.set_yticklabels([\"2.5oz\", \"4oz\"])\n",
    "ax.set_zticks([-1, 1])\n",
    "ax.set_zticklabels([\"light\", \"dark\"])\n",
    "\n",
    "plt.show()"
   ]
  },
  {
   "cell_type": "markdown",
   "metadata": {
    "slideshow": {
     "slide_type": "slide"
    }
   },
   "source": [
    "# Statistical Power\n",
    "\n",
    "The probability that a design will detect an active effect.\n",
    "\n",
    "| Effect?       | Retain H<sub>0</sub>   | Reject H<sub>0</sub>    |\n",
    "| ------------- |:-----------------------| -----------------------:|\n",
    "| **No**        | OK                     | Type 1 Error            |\n",
    "| **Yes**       | Type II Error          | OK                      |\n",
    "\n",
    "Power is expressed as a probability to detect an effect of size Δ, given noise σ. This is typically given as a delta to sigma ratio Δ/σ. Power is a function of the signal to noise ratio, as well as the number and layout of experiments in the design."
   ]
  },
  {
   "cell_type": "code",
   "execution_count": null,
   "metadata": {
    "collapsed": false,
    "slideshow": {
     "slide_type": "slide"
    }
   },
   "outputs": [],
   "source": [
    "runs = 50\n",
    "delta = 0.5\n",
    "sigma = 1.5\n",
    "alpha = 0.05\n",
    "\n",
    "one_factor = pd.DataFrame([ -1, 1 ] * runs, columns=['beans'])\n",
    "one_factor_power = dexpy.power.f_power('beans', one_factor, delta/sigma, alpha)\n",
    "\n",
    "display(Markdown('''\n",
    "# Power Example\n",
    "{} pots of coffee are tested with light beans, then {} pots with dark beans.\n",
    "There is a variance of {} taste rating from pot to pot. If we expect a {} change\n",
    "in the taste rating when going from light to dark, what is the likelihood we would detect it?\n",
    "(Answer: **{:.2f}%**)\n",
    "\n",
    "Note: this assumes that we reject H<sub>0</sub> at p <= {}\n",
    "'''.format(int(runs / 2), int(runs / 2), sigma, delta, one_factor_power[1]*100, alpha)\n",
    "))\n",
    "\n",
    "def plot_shift(runs, delta, sigma, annotate=False):\n",
    "    \"\"\"Plots two sets of random normal data, one shifted up delta units.\"\"\"\n",
    "    mean = 5\n",
    "    low = sigma*np.random.randn(int(runs/2),1)+mean\n",
    "    high = sigma*np.random.randn(int(runs/2),1)+mean+delta\n",
    "    fig = plt.figure()\n",
    "    ax = fig.add_subplot(111)\n",
    "    ax.set_ylabel(\"taste\")\n",
    "    ax.set_xlabel(\"runs\")\n",
    "    ax.set_ylim([0, 11])\n",
    "    \n",
    "    plt.plot(np.concatenate([low, high]))\n",
    "    plt.plot([0, (runs/2)], [low.mean()] * 2, color='firebrick', lw=2)\n",
    "    plt.plot([(runs/2), runs-1], [high.mean()] * 2, color='g', lw=2)\n",
    "    \n",
    "    p_value = scipy.stats.f_oneway(low, high).pvalue[0]\n",
    "    if annotate:\n",
    "        plt.annotate(\"p: {:.5f}\".format(p_value),\n",
    "                     xy=(runs / 2, (low.mean() + high.mean()) / 2), xycoords='data',\n",
    "                     xytext=(.8, .9), textcoords='axes fraction',\n",
    "                     bbox=dict(boxstyle=\"round4\", fc=\"w\"),\n",
    "                     arrowprops=dict(arrowstyle='-[', linewidth=2, color='black', connectionstyle=\"angle3\")\n",
    "                     )\n",
    "\n",
    "    plt.show()\n",
    "    return [low, high]\n",
    "\n",
    "low, high = plot_shift(runs, delta, sigma)"
   ]
  },
  {
   "cell_type": "code",
   "execution_count": null,
   "metadata": {
    "collapsed": false,
    "slideshow": {
     "slide_type": "subslide"
    }
   },
   "outputs": [],
   "source": [
    "increased_delta = delta*4\n",
    "increased_delta_power = dexpy.power.f_power('beans', one_factor, increased_delta/sigma, alpha)\n",
    "\n",
    "display(Markdown('''\n",
    "# Power Example - Increase Delta\n",
    "What if we don't care about a taste increase of 0.5? That's not that much better\n",
    "than the current coffee, after all. Instead, if we say we only care about a change\n",
    "in rating above {}, what is the likelihood we would detect such a change?\n",
    "(Answer: **{:.5f}%**)\n",
    "'''.format(increased_delta, increased_delta_power[1]*100)\n",
    "))\n",
    "\n",
    "_ = plot_shift(runs, increased_delta, sigma)"
   ]
  },
  {
   "cell_type": "code",
   "execution_count": null,
   "metadata": {
    "collapsed": false,
    "slideshow": {
     "slide_type": "subslide"
    }
   },
   "outputs": [],
   "source": [
    "decreased_sigma = sigma*0.5\n",
    "decreased_sigma_power = dexpy.power.f_power('beans', one_factor, delta/decreased_sigma, alpha)\n",
    "\n",
    "display(Markdown('''\n",
    "# Power Example - Decrease Noise\n",
    "Instead of lowering our standards for our noisy taste ratings, instead\n",
    "we could bring in expert testers who have a much more accurate palate.\n",
    "If we assume a decrease in noise from {} to {}, then we can detect a\n",
    "change in rating of {} with {:.2f}% probability.\n",
    "'''.format(sigma, decreased_sigma, delta, decreased_sigma_power[1]*100)\n",
    "))\n",
    "\n",
    "_ = plot_shift(runs, delta, sigma*0.1)"
   ]
  },
  {
   "cell_type": "code",
   "execution_count": null,
   "metadata": {
    "collapsed": false,
    "slideshow": {
     "slide_type": "subslide"
    }
   },
   "outputs": [],
   "source": [
    "increased_runs = runs * 4\n",
    "one_factor = pd.DataFrame([ -1, 1 ] * increased_runs, columns=['beans'])\n",
    "increased_runs_power = dexpy.power.f_power('beans', one_factor, delta/sigma, alpha)\n",
    "\n",
    "display(Markdown('''\n",
    "# Power Example - Increase Runs\n",
    "If expert testers are too expensive, and we are unwilling to compromise\n",
    "our standards, then the only remaining option is to create a more powerful\n",
    "design. In this toy example, there isn't much we can do, since it's\n",
    "just one factor. Increasing the runs from {} to {} gives a power of\n",
    "{:.2f}%. This may be a more acceptable success rate than the original power\n",
    "of {:.2f}%, however... that is a lot of coffee to drink.\n",
    "\n",
    "For more complicated designs changing the structure of the design\n",
    "can also increase power.\n",
    "'''.format(runs, increased_runs, increased_runs_power[1]*100, one_factor_power[1]*100)\n",
    "))\n",
    "_ = plot_shift(increased_runs, delta, sigma)"
   ]
  },
  {
   "cell_type": "markdown",
   "metadata": {
    "slideshow": {
     "slide_type": "slide"
    }
   },
   "source": [
    "# Calculating Power with dexpy\n",
    "\n",
    "https://statease.github.io/dexpy/evaluation.html#statistical-power"
   ]
  },
  {
   "cell_type": "code",
   "execution_count": null,
   "metadata": {
    "collapsed": false,
    "slideshow": {
     "slide_type": "-"
    }
   },
   "outputs": [],
   "source": [
    "help(dexpy.power.f_power)"
   ]
  },
  {
   "cell_type": "code",
   "execution_count": null,
   "metadata": {
    "collapsed": false,
    "nbpresent": {
     "id": "afc624d6-8a65-4880-bef4-5d2f77dc8cb2"
    },
    "slideshow": {
     "slide_type": "skip"
    }
   },
   "outputs": [],
   "source": [
    "base_point = [-1, -1, -1, -1, -1]\n",
    "ofat_points = [base_point]\n",
    "\n",
    "for i in range(0, 5):\n",
    "    new_point = base_point[:]\n",
    "    new_point[i] = 1\n",
    "    ofat_points.append(new_point)\n",
    "\n",
    "sn = 2.0\n",
    "alpha = 0.05\n",
    "\n",
    "ofat_df = pd.DataFrame(ofat_points*5, columns=['amount', 'grind_size', 'brew_time', 'grind_type', 'beans'])\n",
    "model = ' + '.join(ofat_df.columns)\n",
    "ofat_power = dexpy.power.f_power('+'.join(ofat_df.columns), ofat_df, sn, alpha)\n",
    "ofat_power.pop(0) # remove intercept\n",
    "ofat_power = ['{0:.2f}%'.format(i*100) for i in ofat_power] # convert to %\n",
    "ofat_power = pd.DataFrame(ofat_power, columns=['Power'], index=ofat_df.columns)\n",
    "\n",
    "display(Markdown('''\n",
    "# Calculating Power with dexpy: OFAT\n",
    "* {} total runs, with a signal to noise ratio of 2.\n",
    "* Model: `{}`\n",
    "'''.format(len(ofat_df), model)))\n",
    "\n",
    "display(PrettyPandas(ofat_power))"
   ]
  },
  {
   "cell_type": "code",
   "execution_count": null,
   "metadata": {
    "collapsed": false,
    "slideshow": {
     "slide_type": "subslide"
    }
   },
   "outputs": [],
   "source": [
    "full_design = dexpy.factorial.build_factorial(5, 2**5)\n",
    "full_design.columns = ['amount', 'grind_size', 'brew_time', 'grind_type', 'beans']\n",
    "factorial_power = dexpy.power.f_power(model, full_design, sn, alpha)\n",
    "factorial_power.pop(0)\n",
    "factorial_power = ['{0:.2f}%'.format(i*100) for i in factorial_power] # convert to %\n",
    "factorial_power = pd.DataFrame(factorial_power, columns=['Power'], index=full_design.columns)\n",
    "\n",
    "display(Markdown('''\n",
    "# Calculating Power with dexpy: Factorial\n",
    "* {} total runs, with a signal to noise ratio of 2.\n",
    "* Model (`patsy` for: `{}`\n",
    "'''.format(len(full_design), model)))\n",
    "display(PrettyPandas(factorial_power))"
   ]
  },
  {
   "cell_type": "markdown",
   "metadata": {
    "collapsed": true,
    "slideshow": {
     "slide_type": "slide"
    }
   },
   "source": [
    "# Fractional Factorials\n",
    "\n",
    "* Coffee experiment is 2<sup>5</sup> runs (32)\n",
    "* We want to add 4 center point runs to check for curvature\n",
    "* Total runs = 36, 3 per day if all testers are in the office\n",
    "* Estimate experiment will take a month"
   ]
  },
  {
   "cell_type": "markdown",
   "metadata": {
    "slideshow": {
     "slide_type": "subslide"
    }
   },
   "source": [
    "# Fractional Factorials\n",
    "* Power for the experiment is > 99%\n",
    "* Full factorial is overkill\n",
    "* Instead run 2<sup>5-1</sup> experiments, a \"half fraction\"\n"
   ]
  },
  {
   "cell_type": "markdown",
   "metadata": {
    "slideshow": {
     "slide_type": "slide"
    }
   },
   "source": [
    "# Fractional Factorials in dexpy\n",
    "\n",
    "https://statease.github.io/dexpy/design-build.html#module-dexpy.factorial"
   ]
  },
  {
   "cell_type": "code",
   "execution_count": null,
   "metadata": {
    "collapsed": false,
    "slideshow": {
     "slide_type": "-"
    }
   },
   "outputs": [],
   "source": [
    "help(dexpy.factorial.build_factorial)"
   ]
  },
  {
   "cell_type": "code",
   "execution_count": null,
   "metadata": {
    "collapsed": false,
    "slideshow": {
     "slide_type": "subslide"
    }
   },
   "outputs": [],
   "source": [
    "coffee_design = dexpy.factorial.build_factorial(5, 2**(5-1))\n",
    "coffee_design.columns = ['amount', 'grind_size', 'brew_time', 'grind_type', 'beans']\n",
    "center_points = [\n",
    "    [0, 0, 0, -1, -1],\n",
    "    [0, 0, 0, -1, 1],\n",
    "    [0, 0, 0, 1, -1],\n",
    "    [0, 0, 0, 1, 1]\n",
    "]\n",
    "\n",
    "coffee_design = coffee_design.append(pd.DataFrame(center_points * 2, columns=coffee_design.columns))\n",
    "coffee_design.index = np.arange(0, len(coffee_design))\n",
    "\n",
    "actual_design = coded_to_actual(coffee_design, actual_lows, actual_highs)\n",
    "\n",
    "display(Markdown(\"## 2<sup>(5-1)</sup> Factorial Design\"))\n",
    "display(PrettyPandas(actual_design))"
   ]
  },
  {
   "cell_type": "code",
   "execution_count": null,
   "metadata": {
    "collapsed": false,
    "slideshow": {
     "slide_type": "subslide"
    }
   },
   "outputs": [],
   "source": [
    "model = ' + '.join(coffee_design.columns)\n",
    "factorial_power = dexpy.power.f_power(model, coffee_design, sn, alpha)\n",
    "factorial_power.pop(0)\n",
    "factorial_power = ['{0:.2f}%'.format(i*100) for i in factorial_power] # convert to %\n",
    "factorial_power = pd.DataFrame(factorial_power, columns=['Power'], index=coffee_design.columns)\n",
    "\n",
    "display(Markdown('''\n",
    "## 2<sup>(5-1)</sup> Factorial Power\n",
    "* Power for {} total runs\n",
    "* Signal to noise ratio of 2\n",
    "* Model: `{}`\n",
    "'''.format(len(coffee_design), model)))\n",
    "display(PrettyPandas(factorial_power))"
   ]
  },
  {
   "cell_type": "code",
   "execution_count": null,
   "metadata": {
    "collapsed": false,
    "slideshow": {
     "slide_type": "skip"
    }
   },
   "outputs": [],
   "source": [
    "twofi_model = \"(\" + '+'.join(coffee_design.columns) + \")**2\"\n",
    "desc = patsy.ModelDesc.from_formula(twofi_model)\n",
    "factorial_power = dexpy.power.f_power(twofi_model, coffee_design, sn, alpha)\n",
    "factorial_power.pop(0)\n",
    "factorial_power = ['{0:.2f}%'.format(i*100) for i in factorial_power] # convert to %\n",
    "factorial_power = pd.DataFrame(factorial_power, columns=['Power'], index=desc.describe().strip(\"~ \").split(\" + \"))\n",
    "\n",
    "display(Markdown('''\n",
    "## 2<sup>(5-1)</sup> Factorial Power\n",
    "* Power for {} total runs\n",
    "* Signal to noise ratio of 2\n",
    "* Model: `{}`\n",
    "'''.format(len(coffee_design), twofi_model)))\n",
    "display(Markdown(\"## Power for {} total runs, with a signal to noise ratio of 2.\".format(len(coffee_design))))\n",
    "display(PrettyPandas(factorial_power))"
   ]
  },
  {
   "cell_type": "code",
   "execution_count": null,
   "metadata": {
    "collapsed": false,
    "slideshow": {
     "slide_type": "skip"
    }
   },
   "outputs": [],
   "source": [
    "display(Markdown('''\n",
    "# Aliasing\n",
    "\n",
    "When you don't run all combinations of inputs, you lose the ability to estimate terms\n",
    "For example, if you have three inputs the full model matrix looks like this:\n",
    "'''))\n",
    "\n",
    "three_factor_design = dexpy.factorial.build_factorial(3, 8)\n",
    "X = patsy.dmatrix(\"(\" + \" + \".join(three_factor_design.columns) + \")**3\", three_factor_design, return_type='dataframe')\n",
    "display(PrettyPandas(X))\n"
   ]
  },
  {
   "cell_type": "code",
   "execution_count": null,
   "metadata": {
    "collapsed": false,
    "slideshow": {
     "slide_type": "skip"
    }
   },
   "outputs": [],
   "source": [
    "display(Markdown('''\n",
    "## Aliasing\n",
    "\n",
    "If we remove half the runs, so that the design is 2<sup>3-1</sup>:\n",
    "'''))\n",
    "\n",
    "X.loc[[0,3,5,6]] = ''\n",
    "display(PrettyPandas(X))\n",
    "      \n",
    "display(Markdown('''\n",
    "You can see that A*B*C never changes. In addition, A = BC and B = AC.\n",
    "When a term is a linear combination of another term that is called an **alias**. Aliased terms are unestimable.\n",
    "'''))"
   ]
  },
  {
   "cell_type": "markdown",
   "metadata": {
    "slideshow": {
     "slide_type": "skip"
    }
   },
   "source": [
    "## Calculating Aliases in dexpy\n",
    "\n",
    "dexpy can calculate the terms that are linear combinations of other terms.\n",
    "\n",
    "https://statease.github.io/dexpy/evaluation.html#alias-list"
   ]
  },
  {
   "cell_type": "code",
   "execution_count": null,
   "metadata": {
    "collapsed": false,
    "slideshow": {
     "slide_type": "skip"
    }
   },
   "outputs": [],
   "source": [
    "help(dexpy.alias.alias_list)"
   ]
  },
  {
   "cell_type": "code",
   "execution_count": null,
   "metadata": {
    "collapsed": false,
    "slideshow": {
     "slide_type": "skip"
    }
   },
   "outputs": [],
   "source": [
    "display(Markdown('''\n",
    "## Calculating Aliases in dexpy\n",
    "\n",
    "Here is what that alias list looks like for our Coffee Experiment:\n",
    "'''))\n",
    "    \n",
    "full_model = \"(\" + '+'.join(coffee_design.columns) + \")**3\"\n",
    "aliases, _ = dexpy.alias.alias_list(full_model, coffee_design)\n",
    "for a in aliases:\n",
    "    print(a)\n",
    "    \n",
    "display(Markdown('''\n",
    "As you can see, we lose the ability to estimate some three factor interactions separately from the two factor interactions.\n",
    "This is not a cause for great concern as the three factor interactions are rare in practice.\n",
    "'''))"
   ]
  },
  {
   "cell_type": "markdown",
   "metadata": {
    "slideshow": {
     "slide_type": "slide"
    }
   },
   "source": [
    "# Analysis\n",
    "\n",
    "* [statsmodels](http://statsmodels.sourceforge.net/) has lots of routines for modeling data\n",
    "* We will use [Ordinary Least Squares (OLS)](http://statsmodels.sourceforge.net/devel/examples/notebooks/generated/ols.html) to fit\n",
    "* `statsmodels` typically takes `numpy` arrays for X and y data\n",
    "* It also has a \"formulas\" api that accepts a `patsy` formula"
   ]
  },
  {
   "cell_type": "code",
   "execution_count": null,
   "metadata": {
    "collapsed": true,
    "slideshow": {
     "slide_type": "skip"
    }
   },
   "outputs": [],
   "source": [
    "# enter response data here\n",
    "\n",
    "coffee_design['taste_rating'] = [\n",
    "    4.53, 1.6336, 1.363, 8.7, 1.679, 2.895, 7.341, 3.642, # A low\n",
    "    6.974, 3.398, 3.913, 9.04, 5.092, 3.718, 8.227, 6.992, # A high\n",
    "    4.419, 6.806, 3.512, 5.36, 4.865, 6.342, 4.38, 5.942 # center points\n",
    "]"
   ]
  },
  {
   "cell_type": "code",
   "execution_count": null,
   "metadata": {
    "collapsed": false,
    "slideshow": {
     "slide_type": "skip"
    }
   },
   "outputs": [],
   "source": [
    "lm = statsmodels.formula.api.ols(\"taste_rating ~\" + twofi_model, data=coffee_design).fit()\n",
    "print(lm.summary2())"
   ]
  },
  {
   "cell_type": "code",
   "execution_count": null,
   "metadata": {
    "collapsed": false,
    "slideshow": {
     "slide_type": "subslide"
    }
   },
   "outputs": [],
   "source": [
    "reduced_model = \"amount + grind_size + brew_time + grind_type + beans + amount:beans + grind_size:brew_time + grind_size:grind_type\"\n",
    "lm = statsmodels.formula.api.ols(\"taste_rating ~\" + reduced_model, data=coffee_design).fit()\n",
    "print(lm.summary2())"
   ]
  },
  {
   "cell_type": "markdown",
   "metadata": {
    "slideshow": {
     "slide_type": "slide"
    }
   },
   "source": [
    "# Visualization\n",
    "\n",
    "* [seaborn](http://seaborn.pydata.org/) is built on top of `matplotlib` and adds support for `pandas` dataframes \n",
    "* Can build a plot using `seaborn`, then manipulate it with `matplotlib`\n",
    "* Default themes look a lot nicer than what you get from `matplotlib` out of the box"
   ]
  },
  {
   "cell_type": "code",
   "execution_count": null,
   "metadata": {
    "collapsed": false,
    "slideshow": {
     "slide_type": "subslide"
    }
   },
   "outputs": [],
   "source": [
    "display(Markdown('''\n",
    "If we take the experiment data from the design and use our new model to fit that data, then plot it against\n",
    "the observed values we can get an idea for how well our model predicts. Points above the 45 degree line are\n",
    "overpredicting for that combination of inputs. Points below the line predict a lower taste rating than\n",
    "we actually measured during the experiment.'''))\n",
    "\n",
    "actual_predicted = pd.DataFrame({ 'actual': coffee_design['taste_rating'],\n",
    "                                  'predicted': lm.fittedvalues\n",
    "                                }, index=np.arange(len(coffee_design['taste_rating'])))\n",
    "fg = sns.FacetGrid(actual_predicted, size=5)\n",
    "fg.map(plt.scatter, 'actual', 'predicted')\n",
    "ax = fg.axes[0, 0]\n",
    "ax.plot([1, 10], [1, 10], color='g', lw=2)\n",
    "ax.set_xticks(np.arange(1, 11))\n",
    "ax.set_xlim([0, 11])\n",
    "ax.set_yticks(np.arange(1, 11))\n",
    "ax.set_title('Actual vs Predicted')\n",
    "_ = ax.set_ylim([0, 11])"
   ]
  },
  {
   "cell_type": "code",
   "execution_count": null,
   "metadata": {
    "collapsed": false,
    "slideshow": {
     "slide_type": "subslide"
    }
   },
   "outputs": [],
   "source": [
    "display(Markdown('''\n",
    "Plotting the prediction for two factors at once shows how they interact with each other.\n",
    "In this graph you can see that at the low brew time the larger grind size results in\n",
    "a poor taste rating, likely because the coffee is too weak.'''))\n",
    "\n",
    "pred_points = pd.DataFrame(1, columns = coffee_design.columns, index=np.arange(4))\n",
    "pred_points.loc[1,'grind_size'] = -1\n",
    "pred_points.loc[3,'grind_size'] = -1\n",
    "pred_points.loc[2,'brew_time'] = -1\n",
    "pred_points.loc[3,'brew_time'] = -1\n",
    "pred_points['taste_rating'] = lm.predict(pred_points)\n",
    "pred_points = coded_to_actual(pred_points, actual_lows, actual_highs)\n",
    "\n",
    "fg = sns.factorplot('grind_size', 'taste_rating', hue='brew_time', kind='point', data=pred_points)\n",
    "ax = fg.axes[0, 0]\n",
    "ax.set_xticklabels(get_tick_labels('grind_size', actual_lows, actual_highs, units))\n",
    "_ = ax.set_title('Grind Size/Brew Time Interaction')"
   ]
  },
  {
   "cell_type": "code",
   "execution_count": null,
   "metadata": {
    "collapsed": false,
    "slideshow": {
     "slide_type": "subslide"
    }
   },
   "outputs": [],
   "source": [
    "display(Markdown('''\n",
    "This graph contains the prediction with the highest taste rating, 7.72.\n",
    "However, if you look at the dark bean line there is a point where we can get\n",
    "a rating of 6.93 with 2.5oz of grounds.\n",
    "'''))\n",
    "\n",
    "pred_points = pd.DataFrame(1, columns = coffee_design.columns, index=np.arange(4))\n",
    "pred_points.loc[1,'amount'] = -1\n",
    "pred_points.loc[3,'amount'] = -1\n",
    "pred_points.loc[2,'beans'] = -1\n",
    "pred_points.loc[3,'beans'] = -1\n",
    "pred_points['taste_rating'] = lm.predict(pred_points)\n",
    "pred_points = coded_to_actual(pred_points, actual_lows, actual_highs)\n",
    "\n",
    "fg = sns.factorplot('amount', 'taste_rating', hue='beans', kind='point', palette={'dark': 'maroon', 'light': 'peru'}, data=pred_points)\n",
    "ax = fg.axes[0, 0]\n",
    "ax.set_xticklabels(get_tick_labels('amount', actual_lows, actual_highs, units))\n",
    "ax.set_title('Amount/Beans Interaction')\n",
    "plt.show()\n",
    "\n",
    "display(PrettyPandas(pred_points))\n",
    "display(Markdown('''That savings of 1.5oz per pot would create a nice surplus in the coffee budget at the end of the year.'''))"
   ]
  },
  {
   "cell_type": "markdown",
   "metadata": {
    "slideshow": {
     "slide_type": "subslide"
    }
   },
   "source": [
    "![coffeemaker](img/coffee_maker.jpg)"
   ]
  },
  {
   "cell_type": "markdown",
   "metadata": {
    "slideshow": {
     "slide_type": "slide"
    }
   },
   "source": [
    "# The End\n",
    "\n",
    "* We were able to build and execute an experiment in Python that resulted in a better tasting (and cheaper!) coffee.\n",
    "* These slides can be found at https://hpanderson.github.io/dexpy-pymntos\n",
    "* The jupyter notebook they are based on can be found on my github: https://github.com/hpanderson/dexpy-pymntos\n",
    "* You can reach me at: <hank@statease.com>\n",
    "* The `dexpy` docs are at: https://statease.github.io/dexpy/\n",
    "* `dexpy` is only at version 0.1, we plan on greatly expanding the design and analysis capabilities\n",
    " "
   ]
  }
 ],
 "metadata": {
  "anaconda-cloud": {},
  "celltoolbar": "Slideshow",
  "kernelspec": {
   "display_name": "Python 3",
   "language": "python",
   "name": "python3"
  },
  "language_info": {
   "codemirror_mode": {
    "name": "ipython",
    "version": 3
   },
   "file_extension": ".py",
   "mimetype": "text/x-python",
   "name": "python",
   "nbconvert_exporter": "python",
   "pygments_lexer": "ipython3",
   "version": "3.4.5"
  },
  "nbpresent": {
   "slides": {
    "69ca5852-a257-4b32-a164-46fd17e89d5d": {
     "id": "69ca5852-a257-4b32-a164-46fd17e89d5d",
     "layout": "grid",
     "prev": "7af1a671-4249-4e3e-ad27-77e10146d8c3",
     "regions": {
      "08479882-590c-4dcd-97e0-6461b2662cc7": {
       "attrs": {
        "height": 0.4166666666666667,
        "pad": 0.01,
        "width": 0.8333333333333334,
        "x": 0.08333333333333333,
        "y": 0.5
       },
       "content": {
        "cell": "afc624d6-8a65-4880-bef4-5d2f77dc8cb2",
        "part": "outputs"
       },
       "id": "08479882-590c-4dcd-97e0-6461b2662cc7"
      },
      "281a2605-2b2f-4c5a-8454-f2f478b60461": {
       "attrs": {
        "height": 0.4166666666666667,
        "pad": 0.01,
        "width": 0.8333333333333334,
        "x": 0.08333333333333333,
        "y": 0.08333333333333333
       },
       "content": {
        "cell": "afc624d6-8a65-4880-bef4-5d2f77dc8cb2",
        "part": "source"
       },
       "id": "281a2605-2b2f-4c5a-8454-f2f478b60461"
      }
     },
     "theme": null
    },
    "7af1a671-4249-4e3e-ad27-77e10146d8c3": {
     "id": "7af1a671-4249-4e3e-ad27-77e10146d8c3",
     "prev": null,
     "regions": {
      "0e6b4598-b189-48a7-9e0e-43beda6fa796": {
       "attrs": {
        "height": 0.2,
        "width": 0.4,
        "x": 0.1,
        "y": 0.7
       },
       "content": {
        "cell": "afc624d6-8a65-4880-bef4-5d2f77dc8cb2",
        "part": "source"
       },
       "id": "0e6b4598-b189-48a7-9e0e-43beda6fa796"
      },
      "3d5a9d45-6ebb-4aff-b393-77b42fe7a9d5": {
       "attrs": {
        "height": 0.6,
        "width": 0.8,
        "x": 0.1,
        "y": 0.1
       },
       "content": {
        "cell": "132443fd-23b6-4758-a074-be108db02fd9",
        "part": "source"
       },
       "id": "3d5a9d45-6ebb-4aff-b393-77b42fe7a9d5"
      },
      "d44fc3d2-a017-47e8-87d9-dc52608832d5": {
       "attrs": {
        "height": 0.2,
        "width": 0.4,
        "x": 0.5,
        "y": 0.7
       },
       "content": {
        "cell": "afc624d6-8a65-4880-bef4-5d2f77dc8cb2",
        "part": "outputs"
       },
       "id": "d44fc3d2-a017-47e8-87d9-dc52608832d5"
      }
     }
    }
   },
   "themes": {}
  }
 },
 "nbformat": 4,
 "nbformat_minor": 1
}

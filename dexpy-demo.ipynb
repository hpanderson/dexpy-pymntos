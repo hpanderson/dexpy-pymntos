{
 "cells": [
  {
   "cell_type": "code",
   "execution_count": null,
   "metadata": {
    "collapsed": false,
    "slideshow": {
     "slide_type": "skip"
    }
   },
   "outputs": [],
   "source": [
    "import pandas as pd\n",
    "from prettypandas import PrettyPandas\n",
    "import numpy as np\n",
    "\n",
    "from graphviz import Digraph\n",
    "import seaborn as sns\n",
    "\n",
    "import dexpy.factorial\n",
    "import dexpy.alias\n",
    "import dexpy.power\n",
    "\n",
    "from mpl_toolkits.mplot3d import Axes3D\n",
    "import matplotlib.pyplot as plt\n",
    "from matplotlib import patches\n",
    "\n",
    "from IPython.display import display, Markdown, HTML\n",
    "\n",
    "# use SVG for matplotlib-based figures\n",
    "%matplotlib inline\n",
    "%config InlineBackend.figure_format = 'svg'\n",
    "\n",
    "from IPython.core.display import HTML\n",
    "HTML('''<script>\n",
    "code_show=true; \n",
    "function code_toggle() {\n",
    " if (code_show){\n",
    " $('div.input').hide();\n",
    " } else {\n",
    " $('div.input').show();\n",
    " }\n",
    " code_show = !code_show\n",
    "} \n",
    "$( document ).ready(code_toggle);\n",
    "</script>\n",
    "The raw code for this IPython notebook is by default hidden for easier reading.\n",
    "To toggle on/off the raw code, click <a href=\"javascript:code_toggle()\">here</a>.''')"
   ]
  },
  {
   "cell_type": "markdown",
   "metadata": {
    "nbpresent": {
     "id": "132443fd-23b6-4758-a074-be108db02fd9"
    },
    "slideshow": {
     "slide_type": "slide"
    }
   },
   "source": [
    "# dexpy/Design-Expert history\n",
    "\n",
    "* Initial release 1985, written in Pascal\n",
    "* Moved to C++ in 1996\n",
    "* Used Python for some prototyping/validation, but mostly R\n",
    "* Started using Python with Boost::Python in 2015 for testing components\n",
    "* Moved to build system to waf (Python) from CMake (DSL)\n",
    "* Created dexpy in 2016 based on the Design-Expert testing library"
   ]
  },
  {
   "cell_type": "markdown",
   "metadata": {
    "collapsed": false,
    "slideshow": {
     "slide_type": "slide"
    }
   },
   "source": [
    "# Design of Experiments\n",
    "\n",
    "A systematic series of tests, in which purposeful changes are made to input factors, so that you may identify causes for significant changes in the output repsonses.\n",
    "\n",
    "  * Developed by Ronald Fisher in the 20s\n",
    "  * \"The Design of Experiments\" introduced null hypothesis\n",
    "  * Lady Tasting Tea experiment; milk or tea poured into cup first?\n",
    "    * 8 cups prepared, 4 tasted: 70 permutations, 1.6% chance of random success"
   ]
  },
  {
   "cell_type": "code",
   "execution_count": null,
   "metadata": {
    "collapsed": false,
    "slideshow": {
     "slide_type": "-"
    }
   },
   "outputs": [],
   "source": [
    "dot = Digraph(comment='Design of Experiments')\n",
    "dot.body.extend(['rankdir=LR', 'size=\"10,10\"'])\n",
    "dot.node_attr.update(shape='rectangle', style='filled', fontsize='20', fontname=\"helvetica\")\n",
    "\n",
    "dot.node('X', 'Controllable Factors', color='mediumseagreen', width='3')\n",
    "dot.node('Z', 'Noise Factors', color='indianred2', width='3')\n",
    "dot.node('P', 'Process', color='lightblue', height='1.25', width='3')\n",
    "dot.node('Y', 'Responses', color='lightblue')\n",
    "\n",
    "dot.edges(['XP', 'ZP', 'PY'] * 3)\n",
    "\n",
    "dot"
   ]
  },
  {
   "cell_type": "markdown",
   "metadata": {
    "slideshow": {
     "slide_type": "slide"
    }
   },
   "source": [
    "# Motivating Example: Coffee\n",
    "\n",
    " * Current coffee is subpar (\"digusting and unacceptable\")\n",
    " * Need to answer the following questions via experimentation:\n",
    "  * What coffee beans to use?\n",
    "  * How much coffee to use?\n",
    "  * How to grind the coffee?"
   ]
  },
  {
   "cell_type": "markdown",
   "metadata": {
    "slideshow": {
     "slide_type": "subslide"
    }
   },
   "source": [
    "# Motivating Example: Coffee\n",
    "\n",
    " * 5 input factors\n",
    "  * Grind setting (8-10mm)\n",
    "  * Amount of Coffee (2.5 to 4.0 oz.)\n",
    "  * Brew time (3.5 to 4.5 minutes)\n",
    "  * Grind Type (burr vs blade)\n",
    "  * Coffee beans (light vs dark)\n",
    " * 1 response: Average overall liking by a panel of 5 office coffee addicts\n",
    "  * Each taster rates the coffee from 1-9\n",
    " * Maximum of 3 taste tests a day, for liability reasons\n",
    " "
   ]
  },
  {
   "cell_type": "markdown",
   "metadata": {
    "slideshow": {
     "slide_type": "subslide"
    }
   },
   "source": [
    "             ((((\n",
    "            ((((\n",
    "             ))))\n",
    "          _ .---.\n",
    "         ( |`---'|\n",
    "          \\|     |\n",
    "          : `---' :\n",
    "           `-----'"
   ]
  },
  {
   "cell_type": "markdown",
   "metadata": {
    "slideshow": {
     "slide_type": "slide"
    }
   },
   "source": [
    "# Traditional Experimentation\n",
    "\n",
    "* One factor at a time\n",
    "* Cannot detect interactions\n",
    "* Inefficient"
   ]
  },
  {
   "cell_type": "code",
   "execution_count": null,
   "metadata": {
    "collapsed": false,
    "slideshow": {
     "slide_type": "fragment"
    }
   },
   "outputs": [],
   "source": [
    "points = [\n",
    "    [-1, -1],\n",
    "    [-1, 1],\n",
    "    [1, -1],\n",
    "    [-1, -1],\n",
    "    [-1, 1],\n",
    "    [1, -1],\n",
    "]\n",
    "df = pd.DataFrame(points, columns=['grind_size', 'amount'])\n",
    "fg = sns.lmplot('grind_size', 'amount', data=df, fit_reg=False)\n",
    "\n",
    "p = patches.Polygon(points, color=\"navy\", alpha=0.3, lw=2)\n",
    "ax = fg.axes[0, 0]\n",
    "ax.add_patch(p)\n",
    "ax.set_xticks([-1, 1])\n",
    "ax.set_xticklabels([\"8mm\", \"10mm\"])\n",
    "ax.set_yticks([-1, 1])\n",
    "ax.set_yticklabels([\"2.5oz\", \"4oz\"])\n",
    "\n",
    "p = patches.Polygon([[-1, 1], [1, 1], [1, -1]], color=\"firebrick\", alpha=0.3, lw=2)\n",
    "p = ax.add_patch(p)\n"
   ]
  },
  {
   "cell_type": "code",
   "execution_count": null,
   "metadata": {
    "collapsed": false,
    "slideshow": {
     "slide_type": "subslide"
    }
   },
   "outputs": [],
   "source": [
    "design = dexpy.factorial.build_factorial(4, 8)\n",
    "\n",
    "points = np.array(design)\n",
    "fig = plt.figure()\n",
    "\n",
    "ax = fig.add_subplot(111, projection='3d', axisbg='w')\n",
    "ax.view_init(30, -60) # rotate plot\n",
    "\n",
    "X, Y = np.meshgrid([-1,1], [-1,1])\n",
    "\n",
    "cube_alpha = 0.1\n",
    "ax.plot_surface(X, Y, 1, alpha=cube_alpha, color=\"r\")\n",
    "ax.plot_surface(X, Y, -1, alpha=cube_alpha)\n",
    "ax.plot_surface(X, -1, Y, alpha=cube_alpha)\n",
    "ax.plot_surface(X, 1, Y, alpha=cube_alpha, color=\"r\")\n",
    "ax.plot_surface(1, X, Y, alpha=cube_alpha, color=\"r\")\n",
    "ax.plot_surface(-1, X, Y, alpha=cube_alpha)\n",
    "ax.scatter3D(points[:, 0], points[:, 1], points[:, 2],\n",
    "             c=[\"b\", \"b\", \"b\", \"r\", \"b\", \"r\", \"r\", \"r\"])\n",
    "\n",
    "ax.set_xticks([-1, 1])\n",
    "ax.set_xticklabels([\"8mm\", \"10mm\"])\n",
    "ax.set_yticks([-1, 1])\n",
    "ax.set_yticklabels([\"2.5oz\", \"4oz\"])\n",
    "ax.set_zticks([-1, 1])\n",
    "ax.set_zticklabels([\"light\", \"dark\"])\n",
    "\n",
    "plt.show()"
   ]
  },
  {
   "cell_type": "markdown",
   "metadata": {
    "slideshow": {
     "slide_type": "slide"
    }
   },
   "source": [
    "# Factorial Design\n",
    "\n",
    "* Multifactor testing\n",
    "* Reveals interactions\n",
    "* Maximizes information with minimum runs"
   ]
  },
  {
   "cell_type": "code",
   "execution_count": null,
   "metadata": {
    "collapsed": false,
    "slideshow": {
     "slide_type": "fragment"
    }
   },
   "outputs": [],
   "source": [
    "df = dexpy.factorial.build_factorial(2, 4)\n",
    "df.columns = ['amount', 'grind_size']\n",
    "\n",
    "fg = sns.lmplot('amount', 'grind_size', data=df, fit_reg=False)\n",
    "ax = fg.axes[0, 0]\n",
    "ax.set_xticks([-1, 1])\n",
    "ax.set_xticklabels([\"8mm\", \"10mm\"])\n",
    "ax.set_yticks([-1, 1])\n",
    "ax.set_yticklabels([\"2.5oz\", \"4oz\"])\n",
    "p = ax.add_patch(patches.Rectangle((-1, -1), 2, 2, color=\"navy\", alpha=0.3, lw=2))"
   ]
  },
  {
   "cell_type": "code",
   "execution_count": null,
   "metadata": {
    "collapsed": false,
    "slideshow": {
     "slide_type": "subslide"
    }
   },
   "outputs": [],
   "source": [
    "design = dexpy.factorial.build_factorial(4, 8)\n",
    "\n",
    "points = np.array(design)\n",
    "fig = plt.figure()\n",
    "\n",
    "ax = fig.add_subplot(111, projection='3d', axisbg='w')\n",
    "ax.view_init(30, -60) # rotate plot\n",
    "\n",
    "X, Y = np.meshgrid([-1,1], [-1,1])\n",
    "\n",
    "cube_alpha = 0.1\n",
    "ax.plot_surface(X, Y, 1, alpha=cube_alpha)\n",
    "ax.plot_surface(X, Y, -1, alpha=cube_alpha)\n",
    "ax.plot_surface(X, -1, Y, alpha=cube_alpha)\n",
    "ax.plot_surface(X, 1, Y, alpha=cube_alpha)\n",
    "ax.plot_surface(1, X, Y, alpha=cube_alpha)\n",
    "ax.plot_surface(-1, X, Y, alpha=cube_alpha)\n",
    "ax.scatter3D(points[:, 0], points[:, 1], points[:, 2], c=\"b\")\n",
    "\n",
    "ax.set_xticks([-1, 1])\n",
    "ax.set_xticklabels([\"8mm\", \"10mm\"])\n",
    "ax.set_yticks([-1, 1])\n",
    "ax.set_yticklabels([\"2.5oz\", \"4oz\"])\n",
    "ax.set_zticks([-1, 1])\n",
    "ax.set_zticklabels([\"light\", \"dark\"])\n",
    "\n",
    "plt.show()"
   ]
  },
  {
   "cell_type": "markdown",
   "metadata": {
    "slideshow": {
     "slide_type": "slide"
    }
   },
   "source": [
    "# Statistical Power\n",
    "\n",
    "The probability that a design will detect an active effect.\n",
    "\n",
    "| Effect?       | Retain H<sub>0</sub>   | Reject H<sub>0</sub>    |\n",
    "| ------------- |:-----------------------| -----------------------:|\n",
    "| **No**        | OK                     | Type 1 Error            |\n",
    "| **Yes**       | Type II Error          | OK                      |\n",
    "\n",
    "Power is expressed as a probability to detect an effect of size Δ, given noise σ. This is typically given as a delta to sigma ratio Δ/σ. Power is a function of the signal to noise ratio, as well as the number and layout of experiments in the design."
   ]
  },
  {
   "cell_type": "code",
   "execution_count": null,
   "metadata": {
    "collapsed": false,
    "slideshow": {
     "slide_type": "slide"
    }
   },
   "outputs": [],
   "source": [
    "def plot_shift(runs, delta, sigma):\n",
    "    mean = 5\n",
    "    low = sigma*np.random.randn(int(runs/2),1)+mean\n",
    "    high = sigma*np.random.randn(int(runs/2),1)+mean+delta\n",
    "    fig = plt.figure()\n",
    "    ax = fig.add_subplot(111)\n",
    "    ax.set_ylabel(\"taste\")\n",
    "    ax.set_xlabel(\"runs\")\n",
    "    plt.plot(np.concatenate([low, high]))\n",
    "    plt.plot([0, (runs/2)], [low.mean()] * 2, color='firebrick', lw=2)\n",
    "    plt.plot([(runs/2), runs-1], [high.mean()] * 2, color='g', lw=2)\n",
    "    plt.show()\n",
    "\n",
    "runs = 50\n",
    "delta = 0.5\n",
    "sigma = 1.5\n",
    "print(\"{} runs, shift of {} units\".format(runs, delta))\n",
    "plot_shift(runs, delta, sigma)"
   ]
  },
  {
   "cell_type": "code",
   "execution_count": null,
   "metadata": {
    "collapsed": false,
    "slideshow": {
     "slide_type": "subslide"
    }
   },
   "outputs": [],
   "source": [
    "print(\"shift of {} units (increase in signal)\".format(delta*4))\n",
    "plot_shift(runs, delta*4, sigma)"
   ]
  },
  {
   "cell_type": "code",
   "execution_count": null,
   "metadata": {
    "collapsed": false,
    "slideshow": {
     "slide_type": "subslide"
    }
   },
   "outputs": [],
   "source": [
    "print(\"sigma {:.2f}, shift of {} units (decrease in noise)\".format(sigma*0.1, delta))\n",
    "plot_shift(runs, delta, sigma*0.1)"
   ]
  },
  {
   "cell_type": "code",
   "execution_count": null,
   "metadata": {
    "collapsed": false,
    "slideshow": {
     "slide_type": "subslide"
    }
   },
   "outputs": [],
   "source": [
    "print(\"{} runs, shift of {} units (increase in experiments)\".format(runs*10, delta))\n",
    "plot_shift(runs*10, delta, sigma)"
   ]
  },
  {
   "cell_type": "code",
   "execution_count": null,
   "metadata": {
    "collapsed": false,
    "nbpresent": {
     "id": "afc624d6-8a65-4880-bef4-5d2f77dc8cb2"
    },
    "slideshow": {
     "slide_type": "slide"
    }
   },
   "outputs": [],
   "source": [
    "HTML(\"\"\"\n",
    "<style>\n",
    "div.text_cell_render\n",
    "{\n",
    "    overflow-y:hidden\n",
    "}\n",
    "</style>\n",
    "\"\"\")\n",
    "\n",
    "base_point = [-1, -1, -1, -1, -1]\n",
    "ofat_points = [base_point]\n",
    "\n",
    "for i in range(0, 5):\n",
    "    new_point = base_point[:]\n",
    "    new_point[i] = 1\n",
    "    ofat_points.append(new_point)\n",
    "\n",
    "sn = 2.0\n",
    "alpha = 0.05\n",
    "\n",
    "ofat_df = pd.DataFrame(ofat_points*5, columns=['amount', 'grind_size', 'brew_time', 'grind_type', 'beans'])\n",
    "ofat_power = dexpy.power.f_power('+'.join(ofat_df.columns), ofat_df, sn, alpha)\n",
    "ofat_power.pop(0) # remove intercept\n",
    "ofat_power = ['{0:.2f}%'.format(i*100) for i in ofat_power] # convert to %\n",
    "ofat_power = pd.DataFrame(ofat_power, columns=['Power'], index=ofat_df.columns)\n",
    "\n",
    "display(Markdown(\"# OFAT Power:\"))\n",
    "display(Markdown(\"{} total runs, with a signal to noise ratio of 2.\".format(len(ofat_df))))\n",
    "display(PrettyPandas(ofat_power))"
   ]
  },
  {
   "cell_type": "code",
   "execution_count": null,
   "metadata": {
    "collapsed": false,
    "slideshow": {
     "slide_type": "slide"
    }
   },
   "outputs": [],
   "source": [
    "design = dexpy.factorial.build_factorial(5, 2**5)\n",
    "design.columns = ['amount', 'grind_size', 'brew_time', 'grind_type', 'beans']\n",
    "factorial_power = dexpy.power.f_power(\"+\".join(design.columns), design, sn, alpha)\n",
    "factorial_power.pop(0)\n",
    "factorial_power = ['{0:.2f}%'.format(i*100) for i in factorial_power] # convert to %\n",
    "factorial_power = pd.DataFrame(factorial_power, columns=['Power'], index=design.columns)\n",
    "\n",
    "display(Markdown(\"# Factorial Power to Detect Change of 2 Units:\"))\n",
    "display(Markdown(\"{} total runs, with a signal to noise ratio of 2.\".format(len(design))))\n",
    "display(PrettyPandas(factorial_power))"
   ]
  },
  {
   "cell_type": "markdown",
   "metadata": {
    "collapsed": true,
    "slideshow": {
     "slide_type": "slide"
    }
   },
   "source": [
    "# Fractional Factorials\n",
    "\n",
    "* Coffee experiment is 2^5 runs (32)\n",
    "* We want to do a couple of center point runs to check for curvature\n",
    " * Center points must be replicated for each combination\n",
    " * We have 2 categoric factors (grind type and bean type), with 2 levels each\n",
    " * We will have 4 total center points\n",
    "* Total runs = 36, 3 per day if all testers are in the office\n",
    "* Estimate experiment will take a month"
   ]
  },
  {
   "cell_type": "markdown",
   "metadata": {
    "slideshow": {
     "slide_type": "slide"
    }
   },
   "source": [
    "# Fractional Factorials\n",
    "* Power for the experiment is > 99%\n",
    "* Full factorial is overkill\n",
    "* Sacrifice estimability of higher order interactions (ABCDE, ABCD, etc) to reduce experiment size\n",
    "* 2^5-1 is \"Resolution IV\", i.e. all interactions can be cleanly estimated"
   ]
  },
  {
   "cell_type": "code",
   "execution_count": null,
   "metadata": {
    "collapsed": false,
    "slideshow": {
     "slide_type": "slide"
    }
   },
   "outputs": [],
   "source": [
    "design = dexpy.factorial.build_factorial(5, 2**(5-1))\n",
    "design.columns = ['amount', 'grind_size', 'brew_time', 'grind_type', 'beans']\n",
    "center_points = [\n",
    "    [0, 0, 0, -1, -1],\n",
    "    [0, 0, 0, -1, 1],\n",
    "    [0, 0, 0, 1, -1],\n",
    "    [0, 0, 0, 1, 1]\n",
    "]\n",
    "\n",
    "design = design.append(pd.DataFrame(center_points, columns=design.columns))\n",
    "design.index = np.arange(0, len(design))\n",
    "\n",
    "display(Markdown(\"## Design Matrix\"))\n",
    "display(PrettyPandas(design))\n",
    "\n"
   ]
  },
  {
   "cell_type": "code",
   "execution_count": null,
   "metadata": {
    "collapsed": false,
    "slideshow": {
     "slide_type": "subslide"
    }
   },
   "outputs": [],
   "source": [
    "factorial_power = dexpy.power.f_power('+'.join(design.columns), design, sn, alpha)\n",
    "factorial_power.pop(0)\n",
    "factorial_power = ['{0:.2f}%'.format(i*100) for i in factorial_power] # convert to %\n",
    "factorial_power = pd.DataFrame(factorial_power, columns=['Power'], index=design.columns)\n",
    "\n",
    "display(Markdown(\"Power for {} total runs, with a signal to noise ratio of 2.\".format(len(design))))\n",
    "display(PrettyPandas(factorial_power))"
   ]
  }
 ],
 "metadata": {
  "anaconda-cloud": {},
  "celltoolbar": "Slideshow",
  "kernelspec": {
   "display_name": "Python 3",
   "language": "python",
   "name": "python3"
  },
  "language_info": {
   "codemirror_mode": {
    "name": "ipython",
    "version": 3
   },
   "file_extension": ".py",
   "mimetype": "text/x-python",
   "name": "python",
   "nbconvert_exporter": "python",
   "pygments_lexer": "ipython3",
   "version": "3.4.5"
  },
  "nbpresent": {
   "slides": {
    "69ca5852-a257-4b32-a164-46fd17e89d5d": {
     "id": "69ca5852-a257-4b32-a164-46fd17e89d5d",
     "layout": "grid",
     "prev": "7af1a671-4249-4e3e-ad27-77e10146d8c3",
     "regions": {
      "08479882-590c-4dcd-97e0-6461b2662cc7": {
       "attrs": {
        "height": 0.4166666666666667,
        "pad": 0.01,
        "width": 0.8333333333333334,
        "x": 0.08333333333333333,
        "y": 0.5
       },
       "content": {
        "cell": "afc624d6-8a65-4880-bef4-5d2f77dc8cb2",
        "part": "outputs"
       },
       "id": "08479882-590c-4dcd-97e0-6461b2662cc7"
      },
      "281a2605-2b2f-4c5a-8454-f2f478b60461": {
       "attrs": {
        "height": 0.4166666666666667,
        "pad": 0.01,
        "width": 0.8333333333333334,
        "x": 0.08333333333333333,
        "y": 0.08333333333333333
       },
       "content": {
        "cell": "afc624d6-8a65-4880-bef4-5d2f77dc8cb2",
        "part": "source"
       },
       "id": "281a2605-2b2f-4c5a-8454-f2f478b60461"
      }
     },
     "theme": null
    },
    "7af1a671-4249-4e3e-ad27-77e10146d8c3": {
     "id": "7af1a671-4249-4e3e-ad27-77e10146d8c3",
     "prev": null,
     "regions": {
      "0e6b4598-b189-48a7-9e0e-43beda6fa796": {
       "attrs": {
        "height": 0.2,
        "width": 0.4,
        "x": 0.1,
        "y": 0.7
       },
       "content": {
        "cell": "afc624d6-8a65-4880-bef4-5d2f77dc8cb2",
        "part": "source"
       },
       "id": "0e6b4598-b189-48a7-9e0e-43beda6fa796"
      },
      "3d5a9d45-6ebb-4aff-b393-77b42fe7a9d5": {
       "attrs": {
        "height": 0.6,
        "width": 0.8,
        "x": 0.1,
        "y": 0.1
       },
       "content": {
        "cell": "132443fd-23b6-4758-a074-be108db02fd9",
        "part": "source"
       },
       "id": "3d5a9d45-6ebb-4aff-b393-77b42fe7a9d5"
      },
      "d44fc3d2-a017-47e8-87d9-dc52608832d5": {
       "attrs": {
        "height": 0.2,
        "width": 0.4,
        "x": 0.5,
        "y": 0.7
       },
       "content": {
        "cell": "afc624d6-8a65-4880-bef4-5d2f77dc8cb2",
        "part": "outputs"
       },
       "id": "d44fc3d2-a017-47e8-87d9-dc52608832d5"
      }
     }
    }
   },
   "themes": {}
  }
 },
 "nbformat": 4,
 "nbformat_minor": 1
}

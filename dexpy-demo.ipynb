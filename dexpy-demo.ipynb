{
 "cells": [
  {
   "cell_type": "markdown",
   "metadata": {
    "nbpresent": {
     "id": "132443fd-23b6-4758-a074-be108db02fd9"
    },
    "slideshow": {
     "slide_type": "subslide"
    }
   },
   "source": [
    "# Factorial build\n",
    "\n",
    "This builds a res III factorial."
   ]
  },
  {
   "cell_type": "code",
   "execution_count": 2,
   "metadata": {
    "collapsed": false,
    "nbpresent": {
     "id": "afc624d6-8a65-4880-bef4-5d2f77dc8cb2"
    },
    "slideshow": {
     "slide_type": "subslide"
    }
   },
   "outputs": [
    {
     "data": {
      "text/markdown": [
       "# Design Matrix:"
      ],
      "text/plain": [
       "<IPython.core.display.Markdown object>"
      ]
     },
     "metadata": {},
     "output_type": "display_data"
    },
    {
     "data": {
      "text/html": [
       "\n",
       "        <style  type=\"text/css\" >\n",
       "        \n",
       "            #T_0f392c18_9cc1_11e6_a5d9_022e63516e2d th {\n",
       "            \n",
       "                background: #eee;\n",
       "            \n",
       "                font-weight: 500;\n",
       "            \n",
       "            }\n",
       "        \n",
       "            #T_0f392c18_9cc1_11e6_a5d9_022e63516e2d td {\n",
       "            \n",
       "                text-align: right;\n",
       "            \n",
       "                min-width: 3em;\n",
       "            \n",
       "            }\n",
       "        \n",
       "            #T_0f392c18_9cc1_11e6_a5d9_022e63516e2d * {\n",
       "            \n",
       "                border-color: #c0c0c0;\n",
       "            \n",
       "            }\n",
       "        \n",
       "        \n",
       "        </style>\n",
       "\n",
       "        <table id=\"T_0f392c18_9cc1_11e6_a5d9_022e63516e2d\" None>\n",
       "        \n",
       "\n",
       "        <thead>\n",
       "            \n",
       "            <tr>\n",
       "                \n",
       "                \n",
       "                <th class=\"blank level0\" >\n",
       "                  \n",
       "                \n",
       "                \n",
       "                \n",
       "                <th class=\"col_heading level0 col0\" colspan=1>\n",
       "                  A\n",
       "                \n",
       "                \n",
       "                \n",
       "                <th class=\"col_heading level0 col1\" colspan=1>\n",
       "                  B\n",
       "                \n",
       "                \n",
       "                \n",
       "                <th class=\"col_heading level0 col2\" colspan=1>\n",
       "                  C\n",
       "                \n",
       "                \n",
       "                \n",
       "                <th class=\"col_heading level0 col3\" colspan=1>\n",
       "                  D\n",
       "                \n",
       "                \n",
       "            </tr>\n",
       "            \n",
       "        </thead>\n",
       "        <tbody>\n",
       "            \n",
       "            <tr>\n",
       "                \n",
       "                \n",
       "                <th id=\"T_0f392c18_9cc1_11e6_a5d9_022e63516e2d\"\n",
       "                 class=\"row_heading level0 row0\" rowspan=1>\n",
       "                    0\n",
       "                \n",
       "                \n",
       "                \n",
       "                <td id=\"T_0f392c18_9cc1_11e6_a5d9_022e63516e2drow0_col0\"\n",
       "                 class=\"data row0 col0\" >\n",
       "                    -1\n",
       "                \n",
       "                \n",
       "                \n",
       "                <td id=\"T_0f392c18_9cc1_11e6_a5d9_022e63516e2drow0_col1\"\n",
       "                 class=\"data row0 col1\" >\n",
       "                    -1\n",
       "                \n",
       "                \n",
       "                \n",
       "                <td id=\"T_0f392c18_9cc1_11e6_a5d9_022e63516e2drow0_col2\"\n",
       "                 class=\"data row0 col2\" >\n",
       "                    -1\n",
       "                \n",
       "                \n",
       "                \n",
       "                <td id=\"T_0f392c18_9cc1_11e6_a5d9_022e63516e2drow0_col3\"\n",
       "                 class=\"data row0 col3\" >\n",
       "                    -1\n",
       "                \n",
       "                \n",
       "            </tr>\n",
       "            \n",
       "            <tr>\n",
       "                \n",
       "                \n",
       "                <th id=\"T_0f392c18_9cc1_11e6_a5d9_022e63516e2d\"\n",
       "                 class=\"row_heading level0 row1\" rowspan=1>\n",
       "                    1\n",
       "                \n",
       "                \n",
       "                \n",
       "                <td id=\"T_0f392c18_9cc1_11e6_a5d9_022e63516e2drow1_col0\"\n",
       "                 class=\"data row1 col0\" >\n",
       "                    -1\n",
       "                \n",
       "                \n",
       "                \n",
       "                <td id=\"T_0f392c18_9cc1_11e6_a5d9_022e63516e2drow1_col1\"\n",
       "                 class=\"data row1 col1\" >\n",
       "                    -1\n",
       "                \n",
       "                \n",
       "                \n",
       "                <td id=\"T_0f392c18_9cc1_11e6_a5d9_022e63516e2drow1_col2\"\n",
       "                 class=\"data row1 col2\" >\n",
       "                    1\n",
       "                \n",
       "                \n",
       "                \n",
       "                <td id=\"T_0f392c18_9cc1_11e6_a5d9_022e63516e2drow1_col3\"\n",
       "                 class=\"data row1 col3\" >\n",
       "                    1\n",
       "                \n",
       "                \n",
       "            </tr>\n",
       "            \n",
       "            <tr>\n",
       "                \n",
       "                \n",
       "                <th id=\"T_0f392c18_9cc1_11e6_a5d9_022e63516e2d\"\n",
       "                 class=\"row_heading level0 row2\" rowspan=1>\n",
       "                    2\n",
       "                \n",
       "                \n",
       "                \n",
       "                <td id=\"T_0f392c18_9cc1_11e6_a5d9_022e63516e2drow2_col0\"\n",
       "                 class=\"data row2 col0\" >\n",
       "                    -1\n",
       "                \n",
       "                \n",
       "                \n",
       "                <td id=\"T_0f392c18_9cc1_11e6_a5d9_022e63516e2drow2_col1\"\n",
       "                 class=\"data row2 col1\" >\n",
       "                    1\n",
       "                \n",
       "                \n",
       "                \n",
       "                <td id=\"T_0f392c18_9cc1_11e6_a5d9_022e63516e2drow2_col2\"\n",
       "                 class=\"data row2 col2\" >\n",
       "                    -1\n",
       "                \n",
       "                \n",
       "                \n",
       "                <td id=\"T_0f392c18_9cc1_11e6_a5d9_022e63516e2drow2_col3\"\n",
       "                 class=\"data row2 col3\" >\n",
       "                    1\n",
       "                \n",
       "                \n",
       "            </tr>\n",
       "            \n",
       "            <tr>\n",
       "                \n",
       "                \n",
       "                <th id=\"T_0f392c18_9cc1_11e6_a5d9_022e63516e2d\"\n",
       "                 class=\"row_heading level0 row3\" rowspan=1>\n",
       "                    3\n",
       "                \n",
       "                \n",
       "                \n",
       "                <td id=\"T_0f392c18_9cc1_11e6_a5d9_022e63516e2drow3_col0\"\n",
       "                 class=\"data row3 col0\" >\n",
       "                    -1\n",
       "                \n",
       "                \n",
       "                \n",
       "                <td id=\"T_0f392c18_9cc1_11e6_a5d9_022e63516e2drow3_col1\"\n",
       "                 class=\"data row3 col1\" >\n",
       "                    1\n",
       "                \n",
       "                \n",
       "                \n",
       "                <td id=\"T_0f392c18_9cc1_11e6_a5d9_022e63516e2drow3_col2\"\n",
       "                 class=\"data row3 col2\" >\n",
       "                    1\n",
       "                \n",
       "                \n",
       "                \n",
       "                <td id=\"T_0f392c18_9cc1_11e6_a5d9_022e63516e2drow3_col3\"\n",
       "                 class=\"data row3 col3\" >\n",
       "                    -1\n",
       "                \n",
       "                \n",
       "            </tr>\n",
       "            \n",
       "            <tr>\n",
       "                \n",
       "                \n",
       "                <th id=\"T_0f392c18_9cc1_11e6_a5d9_022e63516e2d\"\n",
       "                 class=\"row_heading level0 row4\" rowspan=1>\n",
       "                    4\n",
       "                \n",
       "                \n",
       "                \n",
       "                <td id=\"T_0f392c18_9cc1_11e6_a5d9_022e63516e2drow4_col0\"\n",
       "                 class=\"data row4 col0\" >\n",
       "                    1\n",
       "                \n",
       "                \n",
       "                \n",
       "                <td id=\"T_0f392c18_9cc1_11e6_a5d9_022e63516e2drow4_col1\"\n",
       "                 class=\"data row4 col1\" >\n",
       "                    -1\n",
       "                \n",
       "                \n",
       "                \n",
       "                <td id=\"T_0f392c18_9cc1_11e6_a5d9_022e63516e2drow4_col2\"\n",
       "                 class=\"data row4 col2\" >\n",
       "                    -1\n",
       "                \n",
       "                \n",
       "                \n",
       "                <td id=\"T_0f392c18_9cc1_11e6_a5d9_022e63516e2drow4_col3\"\n",
       "                 class=\"data row4 col3\" >\n",
       "                    1\n",
       "                \n",
       "                \n",
       "            </tr>\n",
       "            \n",
       "            <tr>\n",
       "                \n",
       "                \n",
       "                <th id=\"T_0f392c18_9cc1_11e6_a5d9_022e63516e2d\"\n",
       "                 class=\"row_heading level0 row5\" rowspan=1>\n",
       "                    5\n",
       "                \n",
       "                \n",
       "                \n",
       "                <td id=\"T_0f392c18_9cc1_11e6_a5d9_022e63516e2drow5_col0\"\n",
       "                 class=\"data row5 col0\" >\n",
       "                    1\n",
       "                \n",
       "                \n",
       "                \n",
       "                <td id=\"T_0f392c18_9cc1_11e6_a5d9_022e63516e2drow5_col1\"\n",
       "                 class=\"data row5 col1\" >\n",
       "                    -1\n",
       "                \n",
       "                \n",
       "                \n",
       "                <td id=\"T_0f392c18_9cc1_11e6_a5d9_022e63516e2drow5_col2\"\n",
       "                 class=\"data row5 col2\" >\n",
       "                    1\n",
       "                \n",
       "                \n",
       "                \n",
       "                <td id=\"T_0f392c18_9cc1_11e6_a5d9_022e63516e2drow5_col3\"\n",
       "                 class=\"data row5 col3\" >\n",
       "                    -1\n",
       "                \n",
       "                \n",
       "            </tr>\n",
       "            \n",
       "            <tr>\n",
       "                \n",
       "                \n",
       "                <th id=\"T_0f392c18_9cc1_11e6_a5d9_022e63516e2d\"\n",
       "                 class=\"row_heading level0 row6\" rowspan=1>\n",
       "                    6\n",
       "                \n",
       "                \n",
       "                \n",
       "                <td id=\"T_0f392c18_9cc1_11e6_a5d9_022e63516e2drow6_col0\"\n",
       "                 class=\"data row6 col0\" >\n",
       "                    1\n",
       "                \n",
       "                \n",
       "                \n",
       "                <td id=\"T_0f392c18_9cc1_11e6_a5d9_022e63516e2drow6_col1\"\n",
       "                 class=\"data row6 col1\" >\n",
       "                    1\n",
       "                \n",
       "                \n",
       "                \n",
       "                <td id=\"T_0f392c18_9cc1_11e6_a5d9_022e63516e2drow6_col2\"\n",
       "                 class=\"data row6 col2\" >\n",
       "                    -1\n",
       "                \n",
       "                \n",
       "                \n",
       "                <td id=\"T_0f392c18_9cc1_11e6_a5d9_022e63516e2drow6_col3\"\n",
       "                 class=\"data row6 col3\" >\n",
       "                    -1\n",
       "                \n",
       "                \n",
       "            </tr>\n",
       "            \n",
       "            <tr>\n",
       "                \n",
       "                \n",
       "                <th id=\"T_0f392c18_9cc1_11e6_a5d9_022e63516e2d\"\n",
       "                 class=\"row_heading level0 row7\" rowspan=1>\n",
       "                    7\n",
       "                \n",
       "                \n",
       "                \n",
       "                <td id=\"T_0f392c18_9cc1_11e6_a5d9_022e63516e2drow7_col0\"\n",
       "                 class=\"data row7 col0\" >\n",
       "                    1\n",
       "                \n",
       "                \n",
       "                \n",
       "                <td id=\"T_0f392c18_9cc1_11e6_a5d9_022e63516e2drow7_col1\"\n",
       "                 class=\"data row7 col1\" >\n",
       "                    1\n",
       "                \n",
       "                \n",
       "                \n",
       "                <td id=\"T_0f392c18_9cc1_11e6_a5d9_022e63516e2drow7_col2\"\n",
       "                 class=\"data row7 col2\" >\n",
       "                    1\n",
       "                \n",
       "                \n",
       "                \n",
       "                <td id=\"T_0f392c18_9cc1_11e6_a5d9_022e63516e2drow7_col3\"\n",
       "                 class=\"data row7 col3\" >\n",
       "                    1\n",
       "                \n",
       "                \n",
       "            </tr>\n",
       "            \n",
       "        </tbody>\n",
       "        </table>\n",
       "        "
      ],
      "text/plain": [
       "<prettypandas.styler.PrettyPandas at 0x7f11c9a08978>"
      ]
     },
     "metadata": {},
     "output_type": "display_data"
    },
    {
     "data": {
      "text/plain": [
       "['Intercept = A:B:C:D',\n",
       " 'A = B:C:D',\n",
       " 'B = A:C:D',\n",
       " 'A:B = C:D',\n",
       " 'C = A:B:D',\n",
       " 'A:C = B:D',\n",
       " 'B:C = A:D',\n",
       " 'A:B:C = D']"
      ]
     },
     "execution_count": 2,
     "metadata": {},
     "output_type": "execute_result"
    }
   ],
   "source": [
    "import dexpy.factorial\n",
    "from IPython.display import display, Markdown\n",
    "from prettypandas import PrettyPandas\n",
    "design = dexpy.factorial.build_factorial(4, 8)\n",
    "display(Markdown(\"# Design Matrix:\"))\n",
    "display(PrettyPandas(design))\n",
    "\n",
    "from dexpy.alias import alias_list\n",
    "alias_list(\"(A*B*C*D)**2\", design)[0]"
   ]
  },
  {
   "cell_type": "code",
   "execution_count": 3,
   "metadata": {
    "collapsed": false,
    "nbpresent": {
     "id": "f43fb65c-6702-46cd-ac43-6fc80dfcff74"
    },
    "slideshow": {
     "slide_type": "slide"
    }
   },
   "outputs": [
    {
     "data": {
      "image/png": "[encoded data removed]",
      "text/plain": [
       "<matplotlib.figure.Figure at 0x7f9ed0cbe588>"
      ]
     },
     "metadata": {},
     "output_type": "display_data"
    }
   ],
   "source": [
    "import numpy as np\n",
    "from mpl_toolkits.mplot3d import Axes3D\n",
    "import matplotlib.pyplot as plt\n",
    "points = np.array(design)\n",
    "fig = plt.figure()\n",
    "ax = fig.add_subplot(111, projection='3d')\n",
    "X, Y = np.meshgrid([-1,1], [-1,1])\n",
    "cube_alpha = 0.1\n",
    "ax.plot_surface(X, Y, 1, alpha=cube_alpha)\n",
    "ax.plot_surface(X, Y, -1, alpha=cube_alpha)\n",
    "ax.plot_surface(X, -1, Y, alpha=cube_alpha)\n",
    "ax.plot_surface(X, 1, Y, alpha=cube_alpha)\n",
    "ax.plot_surface(1, X, Y, alpha=cube_alpha)\n",
    "ax.plot_surface(-1, X, Y, alpha=cube_alpha)\n",
    "ax.scatter3D(points[:, 0], points[:, 1], points[:, 2])\n",
    "plt.show()"
   ]
  },
  {
   "cell_type": "code",
   "execution_count": null,
   "metadata": {
    "collapsed": true
   },
   "outputs": [],
   "source": []
  },
  {
   "cell_type": "code",
   "execution_count": null,
   "metadata": {
    "collapsed": true
   },
   "outputs": [],
   "source": []
  }
 ],
 "metadata": {
  "anaconda-cloud": {},
  "celltoolbar": "Slideshow",
  "kernelspec": {
   "display_name": "Python 3",
   "language": "python",
   "name": "python3"
  },
  "language_info": {
   "codemirror_mode": {
    "name": "ipython",
    "version": 3
   },
   "file_extension": ".py",
   "mimetype": "text/x-python",
   "name": "python",
   "nbconvert_exporter": "python",
   "pygments_lexer": "ipython3",
   "version": "3.4.5"
  },
  "nbpresent": {
   "slides": {
    "69ca5852-a257-4b32-a164-46fd17e89d5d": {
     "id": "69ca5852-a257-4b32-a164-46fd17e89d5d",
     "layout": "grid",
     "prev": "7af1a671-4249-4e3e-ad27-77e10146d8c3",
     "regions": {
      "08479882-590c-4dcd-97e0-6461b2662cc7": {
       "attrs": {
        "height": 0.4166666666666667,
        "pad": 0.01,
        "width": 0.8333333333333334,
        "x": 0.08333333333333333,
        "y": 0.5
       },
       "content": {
        "cell": "afc624d6-8a65-4880-bef4-5d2f77dc8cb2",
        "part": "outputs"
       },
       "id": "08479882-590c-4dcd-97e0-6461b2662cc7"
      },
      "281a2605-2b2f-4c5a-8454-f2f478b60461": {
       "attrs": {
        "height": 0.4166666666666667,
        "pad": 0.01,
        "width": 0.8333333333333334,
        "x": 0.08333333333333333,
        "y": 0.08333333333333333
       },
       "content": {
        "cell": "afc624d6-8a65-4880-bef4-5d2f77dc8cb2",
        "part": "source"
       },
       "id": "281a2605-2b2f-4c5a-8454-f2f478b60461"
      }
     },
     "theme": null
    },
    "7af1a671-4249-4e3e-ad27-77e10146d8c3": {
     "id": "7af1a671-4249-4e3e-ad27-77e10146d8c3",
     "prev": null,
     "regions": {
      "0e6b4598-b189-48a7-9e0e-43beda6fa796": {
       "attrs": {
        "height": 0.2,
        "width": 0.4,
        "x": 0.1,
        "y": 0.7
       },
       "content": {
        "cell": "afc624d6-8a65-4880-bef4-5d2f77dc8cb2",
        "part": "source"
       },
       "id": "0e6b4598-b189-48a7-9e0e-43beda6fa796"
      },
      "3d5a9d45-6ebb-4aff-b393-77b42fe7a9d5": {
       "attrs": {
        "height": 0.6,
        "width": 0.8,
        "x": 0.1,
        "y": 0.1
       },
       "content": {
        "cell": "132443fd-23b6-4758-a074-be108db02fd9",
        "part": "source"
       },
       "id": "3d5a9d45-6ebb-4aff-b393-77b42fe7a9d5"
      },
      "d44fc3d2-a017-47e8-87d9-dc52608832d5": {
       "attrs": {
        "height": 0.2,
        "width": 0.4,
        "x": 0.5,
        "y": 0.7
       },
       "content": {
        "cell": "afc624d6-8a65-4880-bef4-5d2f77dc8cb2",
        "part": "outputs"
       },
       "id": "d44fc3d2-a017-47e8-87d9-dc52608832d5"
      }
     }
    }
   },
   "themes": {}
  }
 },
 "nbformat": 4,
 "nbformat_minor": 1
}
